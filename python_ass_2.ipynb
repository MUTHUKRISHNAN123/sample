{
  "nbformat": 4,
  "nbformat_minor": 0,
  "metadata": {
    "colab": {
      "provenance": [],
      "authorship_tag": "ABX9TyPsygKqJAyF4y5zecRuavMg",
      "include_colab_link": true
    },
    "kernelspec": {
      "name": "python3",
      "display_name": "Python 3"
    },
    "language_info": {
      "name": "python"
    }
  },
  "cells": [
    {
      "cell_type": "markdown",
      "metadata": {
        "id": "view-in-github",
        "colab_type": "text"
      },
      "source": [
        "<a href=\"https://colab.research.google.com/github/MUTHUKRISHNAN123/sample/blob/main/python_ass_2.ipynb\" target=\"_parent\"><img src=\"https://colab.research.google.com/assets/colab-badge.svg\" alt=\"Open In Colab\"/></a>"
      ]
    },
    {
      "cell_type": "markdown",
      "source": [
        "Ex.No:2 - Programs using Branching statements"
      ],
      "metadata": {
        "id": "WWvGLDfNBs0P"
      }
    },
    {
      "cell_type": "markdown",
      "source": [
        "2.1- Write a program to determine whether a person is eligible to vote or not. if the person is not eligible, display how many years are left to be eligible."
      ],
      "metadata": {
        "id": "8Cwf5EZ1BvAc"
      }
    },
    {
      "cell_type": "code",
      "source": [
        "age=int(input(\"enter your age: \"))\n",
        "if age>=18:\n",
        "  print(\"you are eligible to vote\")\n",
        "else:\n",
        "  print(\"{} more years are left to be eligible\".format(18-age))"
      ],
      "metadata": {
        "colab": {
          "base_uri": "https://localhost:8080/"
        },
        "id": "afG797RLBzr8",
        "outputId": "2a43ee66-7f9d-41b4-b37f-31751301cb2f"
      },
      "execution_count": 4,
      "outputs": [
        {
          "output_type": "stream",
          "name": "stdout",
          "text": [
            "enter your age: 12\n",
            "6 more years are left to be eligible\n"
          ]
        }
      ]
    },
    {
      "cell_type": "markdown",
      "source": [
        "2.2 - Write  a program that prompts the user to enter a number between 1-7 and then displays the corresponding day of the week."
      ],
      "metadata": {
        "id": "FgS5wR09DV0a"
      }
    },
    {
      "cell_type": "code",
      "source": [
        "weekday = int(input(\"Enter weekday day number (1-7) : \"))\n",
        "if(weekday<=7):\n",
        "  if weekday == 1 :\n",
        "    print(\"\\nMonday\");\n",
        "\n",
        "  elif weekday == 2 :\n",
        "    print(\"\\nTuesday\")\n",
        "\n",
        "  elif(weekday == 3) :\n",
        "    print(\"\\nWednesday\")\n",
        "\n",
        "  elif(weekday == 4) :\n",
        "    print(\"\\nThursday\")\n",
        "\n",
        "  elif(weekday == 5) :\n",
        "    print(\"\\nFriday\")\n",
        "\n",
        "  elif(weekday == 6) :\n",
        "    print(\"\\nSaturday\")\n",
        "\n",
        "  elif (weekday == 7) :\n",
        "    print(\"\\nSunday\")\n",
        "else :\n",
        "    print(\"\\nPlease enter weekday number between 1-7.\")\n"
      ],
      "metadata": {
        "id": "ZDRu-3KGDZqP"
      },
      "execution_count": null,
      "outputs": []
    },
    {
      "cell_type": "markdown",
      "source": [
        "2.3 - Write a program to take input from the user and then check whether it is a number or a character, determine whether it is in uppercase or lowercase."
      ],
      "metadata": {
        "id": "g9Hm0cLPFKme"
      }
    },
    {
      "cell_type": "code",
      "source": [
        "\n",
        "ch = input()\n",
        "if(ord(ch) >= 65 and ord(ch) <= 90):\n",
        "\tprint(\"Upper\")\n",
        "elif(ord(ch) >= 97 and ord(ch) <= 122):\n",
        "\tprint(\"Lower\")\n",
        "elif(ord(ch) >= 48 and ord(ch) <= 57):\n",
        "\tprint(\"Number\")\n",
        "else:\n",
        "\tprint(\"Symbol\")\n",
        " "
      ],
      "metadata": {
        "id": "LvhIloOrK52O"
      },
      "execution_count": null,
      "outputs": []
    }
  ]
}