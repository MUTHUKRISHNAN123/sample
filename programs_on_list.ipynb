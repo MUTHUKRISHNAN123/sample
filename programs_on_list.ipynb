{
  "nbformat": 4,
  "nbformat_minor": 0,
  "metadata": {
    "colab": {
      "provenance": [],
      "authorship_tag": "ABX9TyM5L1AXSqhAXJ/YVMzZj53B",
      "include_colab_link": true
    },
    "kernelspec": {
      "name": "python3",
      "display_name": "Python 3"
    },
    "language_info": {
      "name": "python"
    }
  },
  "cells": [
    {
      "cell_type": "markdown",
      "metadata": {
        "id": "view-in-github",
        "colab_type": "text"
      },
      "source": [
        "<a href=\"https://colab.research.google.com/github/MUTHUKRISHNAN123/sample/blob/main/programs_on_list.ipynb\" target=\"_parent\"><img src=\"https://colab.research.google.com/assets/colab-badge.svg\" alt=\"Open In Colab\"/></a>"
      ]
    },
    {
      "cell_type": "markdown",
      "source": [
        "Ex.No:5 - Program on Lists"
      ],
      "metadata": {
        "id": "DZrdFdWoEJRn"
      }
    },
    {
      "cell_type": "markdown",
      "source": [
        "5.1- Write a program that asks the user to enter a list of integers. Do the following:\n",
        "(a) Print the total number of items in the list.\n",
        "(b) Print the last item in the list.\n",
        "(c) Print the list in reverse order.\n",
        "(d) Print Yes if the list contains a 5 and No otherwise.\n",
        "(e) Print the number of fives in the list.\n",
        "(f) Remove the first and last items from the list, sort the remaining items, and print the\n",
        "result . \n",
        "(g) Print how many integers in the list are less than 5."
      ],
      "metadata": {
        "id": "6H_UoTYdEJu-"
      }
    },
    {
      "cell_type": "code",
      "source": [
        "li=[]\n",
        "lii=[]\n",
        "n=int(input(\"enter the no of elements in list: \"))\n",
        "for i in range(0,n):\n",
        "  a=int(input(\"enter the elements: \"))\n",
        "  if(a==101):\n",
        "    break\n",
        "  li.append(a)\n",
        "print(li)\n",
        "print(\"the total no of items is: \",len(li))\n",
        "print(\"the last element is: \",li[-1])\n",
        "lii=li.copy()\n",
        "lii.reverse()\n",
        "print(\"the reverse order of list is: \",lii)\n",
        "count=0\n",
        "for i in range(len(li)):\n",
        "  if(li[i]==5):\n",
        "    print(\"yes\")\n",
        "  else:\n",
        "    print(\"5 is not present\")\n",
        "    count+=1\n",
        "print(\"the no of 5 is: \",count)\n",
        "del li[0]\n",
        "del li[len(li)-1]\n",
        "li.sort()\n",
        "print(li)\n",
        "cow=0\n",
        "for i in range(len(li)):\n",
        "  if(li[i]<5):\n",
        "    cow+=1\n",
        "print(\"the no of elements less than 5 are: \",cow)\n",
        "\n"
      ],
      "metadata": {
        "colab": {
          "base_uri": "https://localhost:8080/"
        },
        "id": "oVlt4HTzEM52",
        "outputId": "0cbfa48f-7739-4723-ac7f-d725752828c4"
      },
      "execution_count": 24,
      "outputs": [
        {
          "output_type": "stream",
          "name": "stdout",
          "text": [
            "enter the no of elements in list: 8\n",
            "enter the elements: 2\n",
            "enter the elements: 5\n",
            "enter the elements: 7\n",
            "enter the elements: 89\n",
            "enter the elements: 100\n",
            "enter the elements: 99\n",
            "enter the elements: 4\n",
            "enter the elements: 9\n",
            "[2, 5, 7, 89, 100, 99, 4, 9]\n",
            "the total no of items is:  8\n",
            "the last element is:  9\n",
            "the reverse order of list is:  [9, 4, 99, 100, 89, 7, 5, 2]\n",
            "5 is not present\n",
            "yes\n",
            "5 is not present\n",
            "5 is not present\n",
            "5 is not present\n",
            "5 is not present\n",
            "5 is not present\n",
            "5 is not present\n",
            "the no of 5 is:  7\n",
            "[4, 5, 7, 89, 99, 100]\n",
            "the no of elements less than 5 are:  1\n"
          ]
        }
      ]
    },
    {
      "cell_type": "markdown",
      "source": [
        "5.2-  Write a program that generates a list of 20 random numbers between 1 and 100.\n",
        "(a) Print the list.\n",
        "(b) Print the average of the elements in the list.\n",
        "(c) Print the largest and smallest values in the list.\n",
        "(d) Print the second largest and second smallest entries in the list\n",
        "(e) Print how many even numbers are in the list."
      ],
      "metadata": {
        "id": "aBZcZL--LMQF"
      }
    },
    {
      "cell_type": "code",
      "source": [
        "import random\n",
        "li=[]\n",
        "n=20\n",
        "for i in range(0,20):\n",
        "  li.append(random.randint(1,100))\n",
        "print(li)\n",
        "avg=sum(li)/len(li)\n",
        "print(\"the avg of elements in the list are: \",avg)\n",
        "print(\"the largest value in list is: \",max(li))\n",
        "print(\"the smallest value in list is: \",min(li))\n",
        "li.sort()\n",
        "print(li)\n",
        "print(\"the second largest element in list is: \",li[-2])\n",
        "print(\"the second smallest element in list is: \",li[1])\n",
        "count=0\n",
        "for i in range(len(li)):\n",
        "  if(li[i]%2==0):\n",
        "    count+=1\n",
        "print(\"the no of even numbers is: \",count)\n",
        "\n"
      ],
      "metadata": {
        "colab": {
          "base_uri": "https://localhost:8080/"
        },
        "id": "95RnkhRyLNeo",
        "outputId": "98f822d8-4a85-46f7-d34b-6103e6670b96"
      },
      "execution_count": 31,
      "outputs": [
        {
          "output_type": "stream",
          "name": "stdout",
          "text": [
            "[55, 64, 97, 20, 65, 87, 6, 1, 85, 15, 61, 96, 40, 2, 77, 32, 79, 14, 81, 36]\n",
            "the avg of elements in the list are:  50.65\n",
            "the largest value in list is:  97\n",
            "the smallest value in list is:  1\n",
            "[1, 2, 6, 14, 15, 20, 32, 36, 40, 55, 61, 64, 65, 77, 79, 81, 85, 87, 96, 97]\n",
            "the second largest element in list is:  96\n",
            "the second smallest element in list is:  2\n",
            "the no of even numbers is:  9\n"
          ]
        }
      ]
    },
    {
      "cell_type": "markdown",
      "source": [
        "5.3-  Start with the list [8,9,10]. Do the following:\n",
        "(a) Set the second entry (index 1) to 17\n",
        "(b) Add 4, 5, and 6 to the end of the list\n",
        "(c) Remove the first entry from the list\n",
        "(d) Sort the list\n",
        "(e) Double the list\n",
        "(f) Insert 25 at index 3.\n",
        "The final list should equal [4,5,6,25,10,17,4,5,6,10,17]"
      ],
      "metadata": {
        "id": "Prp5W6k-OvUS"
      }
    },
    {
      "cell_type": "code",
      "source": [
        "li=[8,9,10]\n",
        "li[1]=17\n",
        "print(li)\n",
        "li.extend([4,5,6])\n",
        "del li[0]\n",
        "li.sort()\n",
        "dl=[]\n",
        "li=li*2\n",
        "print(li)\n",
        "li.insert(3,25)\n",
        "print(\"the final list is: \",li)\n",
        "\n",
        "\n"
      ],
      "metadata": {
        "colab": {
          "base_uri": "https://localhost:8080/"
        },
        "id": "923JJU0hOyvY",
        "outputId": "394057fc-e13c-4ae0-bf00-f80fa9264677"
      },
      "execution_count": 38,
      "outputs": [
        {
          "output_type": "stream",
          "name": "stdout",
          "text": [
            "[8, 17, 10]\n",
            "[4, 5, 6, 10, 17, 4, 5, 6, 10, 17]\n",
            "the final list is:  [4, 5, 6, 25, 10, 17, 4, 5, 6, 10, 17]\n"
          ]
        }
      ]
    }
  ]
}