{
  "nbformat": 4,
  "nbformat_minor": 0,
  "metadata": {
    "colab": {
      "provenance": [],
      "authorship_tag": "ABX9TyOp2mqvCt+QY/FBkpCVpP5K",
      "include_colab_link": true
    },
    "kernelspec": {
      "name": "python3",
      "display_name": "Python 3"
    },
    "language_info": {
      "name": "python"
    }
  },
  "cells": [
    {
      "cell_type": "markdown",
      "metadata": {
        "id": "view-in-github",
        "colab_type": "text"
      },
      "source": [
        "<a href=\"https://colab.research.google.com/github/MUTHUKRISHNAN123/sample/blob/main/Programs_on_strings.ipynb\" target=\"_parent\"><img src=\"https://colab.research.google.com/assets/colab-badge.svg\" alt=\"Open In Colab\"/></a>"
      ]
    },
    {
      "cell_type": "markdown",
      "source": [
        "Ex.No:3 - Programs on strings"
      ],
      "metadata": {
        "id": "_hhAyotLM0K8"
      }
    },
    {
      "cell_type": "markdown",
      "source": [
        "3.1 -Program to demonstrate the slice operation on string objects(use negative indexes also)"
      ],
      "metadata": {
        "id": "u4Ovk3iNM41K"
      }
    },
    {
      "cell_type": "code",
      "source": [
        "str=\"Welcome to my world\"\n",
        "s1=slice(2)\n",
        "s2=slice(0,10,4)\n",
        "s3=slice(-1,-18,-4)\n",
        "print(str[s1])\n",
        "print(str[s2])\n",
        "print(str[s3])"
      ],
      "metadata": {
        "colab": {
          "base_uri": "https://localhost:8080/"
        },
        "id": "MLbVWjnMNBnv",
        "outputId": "11cc2c07-914c-4eb7-ad54-8ce7a3ee45f5"
      },
      "execution_count": 6,
      "outputs": [
        {
          "output_type": "stream",
          "name": "stdout",
          "text": [
            "We\n",
            "Wot\n",
            "dw el\n"
          ]
        }
      ]
    },
    {
      "cell_type": "markdown",
      "source": [
        "3.2- Write a program that accepts string from user and redisplays the same string after removing vowels from it."
      ],
      "metadata": {
        "id": "H7Y3147aPNqR"
      }
    },
    {
      "cell_type": "code",
      "source": [
        "str=input()\n",
        "ch=['a','e','i','o','u','A','E','I','O','U']\n",
        "vow=[word for word in str if word.lower() not in ch]\n",
        "vow=''.join(vow)\n",
        "print(vow)"
      ],
      "metadata": {
        "colab": {
          "base_uri": "https://localhost:8080/"
        },
        "id": "UBL_tiu1PRfS",
        "outputId": "781c189f-691f-4e57-c4be-e9cef683afc7"
      },
      "execution_count": 13,
      "outputs": [
        {
          "output_type": "stream",
          "name": "stdout",
          "text": [
            "hello computer science , this is my invention\n",
            "hll cmptr scnc , ths s my nvntn\n"
          ]
        }
      ]
    },
    {
      "cell_type": "markdown",
      "source": [
        "3.3- write a program that counts the occurences of a character in a string. Do not use built-in count function."
      ],
      "metadata": {
        "id": "7L3jXRfxSF43"
      }
    },
    {
      "cell_type": "code",
      "source": [
        "str=input()\n",
        "ch=input(\"enter a char: \")\n",
        "count=0\n",
        "for i in range(len(str)):\n",
        "  if(str[i]==ch):\n",
        "    count+=1\n",
        "print(\"the number of\",ch,\"in the str is\",count)"
      ],
      "metadata": {
        "colab": {
          "base_uri": "https://localhost:8080/"
        },
        "id": "QniFPfcuSKwC",
        "outputId": "c40a5529-71a7-4054-d2bd-80d464d2e484"
      },
      "execution_count": 19,
      "outputs": [
        {
          "output_type": "stream",
          "name": "stdout",
          "text": [
            "hello computer science , this is my invention\n",
            "enter a char: i\n",
            "the number of i in the str is 5\n"
          ]
        }
      ]
    },
    {
      "cell_type": "markdown",
      "source": [
        "3.4- Write a python program to count the occurences of each word in a given sentence."
      ],
      "metadata": {
        "id": "4S1tzXklUC8N"
      }
    },
    {
      "cell_type": "code",
      "source": [
        "str=input()\n",
        "a=str.split()\n",
        "print(a)\n",
        "print(len(a))"
      ],
      "metadata": {
        "colab": {
          "base_uri": "https://localhost:8080/"
        },
        "id": "AtBfOn5lW-jL",
        "outputId": "becabcbf-fdda-44b9-d2f7-17dfe8e1b4c1"
      },
      "execution_count": 22,
      "outputs": [
        {
          "output_type": "stream",
          "name": "stdout",
          "text": [
            "hello computer science , this is my invention\n",
            "['hello', 'computer', 'science', ',', 'this', 'is', 'my', 'invention']\n",
            "8\n"
          ]
        }
      ]
    },
    {
      "cell_type": "markdown",
      "source": [
        "3.5- Write a program by adding a key value to every character(Hint: if key=5, then add 5 to every character)"
      ],
      "metadata": {
        "id": "uf-DWlUNY-z5"
      }
    },
    {
      "cell_type": "code",
      "source": [
        "str=input()\n",
        "key=int(input())\n",
        "a=\"\"\n",
        "b=\"\"\n",
        "li=[]\n",
        "for i in range(len(str)):\n",
        "  a=(ord(str[i])+key)\n",
        "  li.append(chr(a))\n",
        "print(li)\n",
        "print(b.join(li))"
      ],
      "metadata": {
        "colab": {
          "base_uri": "https://localhost:8080/"
        },
        "id": "eViuJTghZC1t",
        "outputId": "540c0bb8-5302-448b-9e2c-2fa0e138964f"
      },
      "execution_count": 49,
      "outputs": [
        {
          "output_type": "stream",
          "name": "stdout",
          "text": [
            "welcome to my house\n",
            "4\n",
            "['{', 'i', 'p', 'g', 's', 'q', 'i', '$', 'x', 's', '$', 'q', '}', '$', 'l', 's', 'y', 'w', 'i']\n",
            "{ipgsqi$xs$q}$lsywi\n"
          ]
        }
      ]
    },
    {
      "cell_type": "markdown",
      "source": [
        "3.6 - Write a program that finds whether a given character is present in a string or not. In case it is present it prints the index at which it is present. Do not use built in function to search the character."
      ],
      "metadata": {
        "id": "NuG0ICcPe8FW"
      }
    },
    {
      "cell_type": "code",
      "source": [
        "str=input()\n",
        "ch=input(\"enter a char: \")\n",
        "for i in range(len(str)):\n",
        "  if(str[i]==ch):\n",
        "    print('ch',ch,'is found at index',i)\n",
        "  "
      ],
      "metadata": {
        "colab": {
          "base_uri": "https://localhost:8080/"
        },
        "id": "PLvTY_ZKe9Fd",
        "outputId": "2cb8d5b1-ad07-4a63-8567-15c0a939aa31"
      },
      "execution_count": 39,
      "outputs": [
        {
          "output_type": "stream",
          "name": "stdout",
          "text": [
            "hello computer science\n",
            "enter a char: o\n",
            "ch o is found at index 4\n",
            "ch o is found at index 7\n"
          ]
        }
      ]
    }
  ]
}