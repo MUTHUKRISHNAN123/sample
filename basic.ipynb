{
  "nbformat": 4,
  "nbformat_minor": 0,
  "metadata": {
    "colab": {
      "provenance": [],
      "authorship_tag": "ABX9TyP3bPSmQLSzZcCFo3acOLVZ",
      "include_colab_link": true
    },
    "kernelspec": {
      "name": "python3",
      "display_name": "Python 3"
    },
    "language_info": {
      "name": "python"
    }
  },
  "cells": [
    {
      "cell_type": "markdown",
      "metadata": {
        "id": "view-in-github",
        "colab_type": "text"
      },
      "source": [
        "<a href=\"https://colab.research.google.com/github/MUTHUKRISHNAN123/sample/blob/main/basic.ipynb\" target=\"_parent\"><img src=\"https://colab.research.google.com/assets/colab-badge.svg\" alt=\"Open In Colab\"/></a>"
      ]
    },
    {
      "cell_type": "markdown",
      "source": [
        "basic python programs assignment 1\n"
      ],
      "metadata": {
        "id": "xlJ32nAaZqSU"
      }
    },
    {
      "cell_type": "markdown",
      "source": [
        "1) gcd of two numbers"
      ],
      "metadata": {
        "id": "bUnxME1vZxPa"
      }
    },
    {
      "cell_type": "code",
      "source": [
        "def gcd(a,b):\n",
        "    if(b==0):\n",
        "        return a\n",
        "    else:\n",
        "        return gcd(b,a%b)\n",
        "a=int(input(''))\n",
        "b=int(input(''))\n",
        "GCD=gcd(a,b)\n",
        "print(GCD)\n"
      ],
      "metadata": {
        "colab": {
          "base_uri": "https://localhost:8080/"
        },
        "id": "hhIvEq1fZwEC",
        "outputId": "a3adba9f-5eff-4693-d995-59219f4d6217"
      },
      "execution_count": 4,
      "outputs": [
        {
          "output_type": "stream",
          "name": "stdout",
          "text": [
            "393\n",
            "450\n",
            "3\n"
          ]
        }
      ]
    },
    {
      "cell_type": "markdown",
      "source": [
        "2) square root of a number"
      ],
      "metadata": {
        "id": "gi5XOoM8ajPK"
      }
    },
    {
      "cell_type": "code",
      "source": [
        "\n",
        "def sq(a):\n",
        "  return a*a\n",
        "a=int(input(\"enter any integer: \"))\n",
        "square=sq(a)\n",
        "print(\"the square root is:\",square)  \n",
        "\n"
      ],
      "metadata": {
        "colab": {
          "base_uri": "https://localhost:8080/"
        },
        "id": "RWtn4tqWarwS",
        "outputId": "d9d7dddd-613d-421e-e502-99dcca42ca0a"
      },
      "execution_count": 11,
      "outputs": [
        {
          "output_type": "stream",
          "name": "stdout",
          "text": [
            "enter any integer: 5\n",
            "the square root is: 25\n"
          ]
        }
      ]
    },
    {
      "cell_type": "markdown",
      "source": [
        "3) exponential of a number"
      ],
      "metadata": {
        "id": "UK_hyQkTb6fI"
      }
    },
    {
      "cell_type": "code",
      "source": [
        "a= int(input(\"enter a number\"))\n",
        "b= int(input(\"enter a power\"))\n",
        "if b==0:\n",
        "    print(1)\n",
        "else:\n",
        "    for i in range(1,b+1):\n",
        "        result=a**i\n",
        "    print(result)\n"
      ],
      "metadata": {
        "colab": {
          "base_uri": "https://localhost:8080/"
        },
        "id": "lMp3VGmscGeg",
        "outputId": "4da4fe6f-185a-425e-f723-31062a879b58"
      },
      "execution_count": 13,
      "outputs": [
        {
          "output_type": "stream",
          "name": "stdout",
          "text": [
            "enter a number9\n",
            "enter a power3\n",
            "729\n"
          ]
        }
      ]
    },
    {
      "cell_type": "markdown",
      "source": [
        "4) first n prime numbers"
      ],
      "metadata": {
        "id": "egsMGmc_dXtY"
      }
    },
    {
      "cell_type": "code",
      "source": [
        "def prime(n):\n",
        "  if(n==0 or n==1):\n",
        "    return False\n",
        "  for i in range(2,n):\n",
        "    if(n%i==0):\n",
        "      return False\n",
        "  return True\n",
        "\n",
        "N=int(input())\n",
        "for i in range(0,N+1):\n",
        "  if(prime(i)):\n",
        "    print(i,end=\" \")\n"
      ],
      "metadata": {
        "colab": {
          "base_uri": "https://localhost:8080/"
        },
        "id": "BfJqvvHedW0I",
        "outputId": "30d059d9-6944-4513-daff-c1bbd7212d5b"
      },
      "execution_count": 19,
      "outputs": [
        {
          "output_type": "stream",
          "name": "stdout",
          "text": [
            "40\n",
            "2 3 5 7 11 13 17 19 23 29 31 37 "
          ]
        }
      ]
    },
    {
      "cell_type": "markdown",
      "source": [
        "5) fibonacci series"
      ],
      "metadata": {
        "id": "bbmaAQIUhFa8"
      }
    },
    {
      "cell_type": "code",
      "source": [
        "def fibo(n):\n",
        "  if n<0:\n",
        "    print(\"incorrect input\")\n",
        "  elif n==0:\n",
        "    return 0\n",
        "  elif n==1 or n==2:\n",
        "    return 1\n",
        "  else:\n",
        "    return fibo(n-1)+fibo(n-2)\n",
        "N=int(input())\n",
        "print(fibo(N))\n"
      ],
      "metadata": {
        "colab": {
          "base_uri": "https://localhost:8080/"
        },
        "id": "AqKUIIGwhKeU",
        "outputId": "b1796b72-dc60-4468-dbfa-593b9bbe8488"
      },
      "execution_count": 23,
      "outputs": [
        {
          "output_type": "stream",
          "name": "stdout",
          "text": [
            "9\n",
            "34\n"
          ]
        }
      ]
    },
    {
      "cell_type": "code",
      "source": [],
      "metadata": {
        "id": "L4jWJfGGiksi"
      },
      "execution_count": null,
      "outputs": []
    }
  ]
}