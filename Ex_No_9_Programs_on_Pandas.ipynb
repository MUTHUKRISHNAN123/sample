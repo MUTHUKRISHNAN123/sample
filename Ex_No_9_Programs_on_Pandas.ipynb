{
  "nbformat": 4,
  "nbformat_minor": 0,
  "metadata": {
    "colab": {
      "provenance": [],
      "authorship_tag": "ABX9TyN/a4kXIGCjEXURTE0XKI0z",
      "include_colab_link": true
    },
    "kernelspec": {
      "name": "python3",
      "display_name": "Python 3"
    },
    "language_info": {
      "name": "python"
    }
  },
  "cells": [
    {
      "cell_type": "markdown",
      "metadata": {
        "id": "view-in-github",
        "colab_type": "text"
      },
      "source": [
        "<a href=\"https://colab.research.google.com/github/MUTHUKRISHNAN123/sample/blob/main/Ex_No_9_Programs_on_Pandas.ipynb\" target=\"_parent\"><img src=\"https://colab.research.google.com/assets/colab-badge.svg\" alt=\"Open In Colab\"/></a>"
      ]
    },
    {
      "cell_type": "markdown",
      "source": [
        "9.1 Perform data wrangling operations for real data set (Merging,combining,reshaping, pivoting and transformation)\n",
        "\n",
        "Data Wrangling is also known as Data Munging."
      ],
      "metadata": {
        "id": "cwzvaN-itRac"
      }
    },
    {
      "cell_type": "code",
      "source": [
        "#reshaping data\n",
        "import pandas as pd\n",
        "data = {'Name': ['Jai', 'Princi', 'Gaurav',\n",
        "                 'Anuj', 'Ravi', 'Natasha', 'Riya'],\n",
        "        'Age': [17, 17, 18, 17, 18, 17, 17],\n",
        "        'Gender': ['M', 'F', 'M', 'M', 'M', 'F', 'F'],\n",
        "        'Marks': [90, 76, 'NaN', 74, 65, 'NaN', 71]}\n",
        " \n",
        "df = pd.DataFrame(data)\n",
        "\n",
        "# Categorize gender\n",
        "df['Gender'] = df['Gender'].map({'M': 0,'F': 1, }).astype(float)\n",
        "df"
      ],
      "metadata": {
        "colab": {
          "base_uri": "https://localhost:8080/",
          "height": 269
        },
        "id": "ZtZ427mJtSD1",
        "outputId": "f58cf4e1-f146-4add-ab7b-c80ffd7ef5a5"
      },
      "execution_count": 6,
      "outputs": [
        {
          "output_type": "execute_result",
          "data": {
            "text/plain": [
              "      Name  Age  Gender Marks\n",
              "0      Jai   17     0.0    90\n",
              "1   Princi   17     1.0    76\n",
              "2   Gaurav   18     0.0   NaN\n",
              "3     Anuj   17     0.0    74\n",
              "4     Ravi   18     0.0    65\n",
              "5  Natasha   17     1.0   NaN\n",
              "6     Riya   17     1.0    71"
            ],
            "text/html": [
              "\n",
              "  <div id=\"df-15d0d35a-3382-4fe0-83b9-f46eb77139a8\">\n",
              "    <div class=\"colab-df-container\">\n",
              "      <div>\n",
              "<style scoped>\n",
              "    .dataframe tbody tr th:only-of-type {\n",
              "        vertical-align: middle;\n",
              "    }\n",
              "\n",
              "    .dataframe tbody tr th {\n",
              "        vertical-align: top;\n",
              "    }\n",
              "\n",
              "    .dataframe thead th {\n",
              "        text-align: right;\n",
              "    }\n",
              "</style>\n",
              "<table border=\"1\" class=\"dataframe\">\n",
              "  <thead>\n",
              "    <tr style=\"text-align: right;\">\n",
              "      <th></th>\n",
              "      <th>Name</th>\n",
              "      <th>Age</th>\n",
              "      <th>Gender</th>\n",
              "      <th>Marks</th>\n",
              "    </tr>\n",
              "  </thead>\n",
              "  <tbody>\n",
              "    <tr>\n",
              "      <th>0</th>\n",
              "      <td>Jai</td>\n",
              "      <td>17</td>\n",
              "      <td>0.0</td>\n",
              "      <td>90</td>\n",
              "    </tr>\n",
              "    <tr>\n",
              "      <th>1</th>\n",
              "      <td>Princi</td>\n",
              "      <td>17</td>\n",
              "      <td>1.0</td>\n",
              "      <td>76</td>\n",
              "    </tr>\n",
              "    <tr>\n",
              "      <th>2</th>\n",
              "      <td>Gaurav</td>\n",
              "      <td>18</td>\n",
              "      <td>0.0</td>\n",
              "      <td>NaN</td>\n",
              "    </tr>\n",
              "    <tr>\n",
              "      <th>3</th>\n",
              "      <td>Anuj</td>\n",
              "      <td>17</td>\n",
              "      <td>0.0</td>\n",
              "      <td>74</td>\n",
              "    </tr>\n",
              "    <tr>\n",
              "      <th>4</th>\n",
              "      <td>Ravi</td>\n",
              "      <td>18</td>\n",
              "      <td>0.0</td>\n",
              "      <td>65</td>\n",
              "    </tr>\n",
              "    <tr>\n",
              "      <th>5</th>\n",
              "      <td>Natasha</td>\n",
              "      <td>17</td>\n",
              "      <td>1.0</td>\n",
              "      <td>NaN</td>\n",
              "    </tr>\n",
              "    <tr>\n",
              "      <th>6</th>\n",
              "      <td>Riya</td>\n",
              "      <td>17</td>\n",
              "      <td>1.0</td>\n",
              "      <td>71</td>\n",
              "    </tr>\n",
              "  </tbody>\n",
              "</table>\n",
              "</div>\n",
              "      <button class=\"colab-df-convert\" onclick=\"convertToInteractive('df-15d0d35a-3382-4fe0-83b9-f46eb77139a8')\"\n",
              "              title=\"Convert this dataframe to an interactive table.\"\n",
              "              style=\"display:none;\">\n",
              "        \n",
              "  <svg xmlns=\"http://www.w3.org/2000/svg\" height=\"24px\"viewBox=\"0 0 24 24\"\n",
              "       width=\"24px\">\n",
              "    <path d=\"M0 0h24v24H0V0z\" fill=\"none\"/>\n",
              "    <path d=\"M18.56 5.44l.94 2.06.94-2.06 2.06-.94-2.06-.94-.94-2.06-.94 2.06-2.06.94zm-11 1L8.5 8.5l.94-2.06 2.06-.94-2.06-.94L8.5 2.5l-.94 2.06-2.06.94zm10 10l.94 2.06.94-2.06 2.06-.94-2.06-.94-.94-2.06-.94 2.06-2.06.94z\"/><path d=\"M17.41 7.96l-1.37-1.37c-.4-.4-.92-.59-1.43-.59-.52 0-1.04.2-1.43.59L10.3 9.45l-7.72 7.72c-.78.78-.78 2.05 0 2.83L4 21.41c.39.39.9.59 1.41.59.51 0 1.02-.2 1.41-.59l7.78-7.78 2.81-2.81c.8-.78.8-2.07 0-2.86zM5.41 20L4 18.59l7.72-7.72 1.47 1.35L5.41 20z\"/>\n",
              "  </svg>\n",
              "      </button>\n",
              "      \n",
              "  <style>\n",
              "    .colab-df-container {\n",
              "      display:flex;\n",
              "      flex-wrap:wrap;\n",
              "      gap: 12px;\n",
              "    }\n",
              "\n",
              "    .colab-df-convert {\n",
              "      background-color: #E8F0FE;\n",
              "      border: none;\n",
              "      border-radius: 50%;\n",
              "      cursor: pointer;\n",
              "      display: none;\n",
              "      fill: #1967D2;\n",
              "      height: 32px;\n",
              "      padding: 0 0 0 0;\n",
              "      width: 32px;\n",
              "    }\n",
              "\n",
              "    .colab-df-convert:hover {\n",
              "      background-color: #E2EBFA;\n",
              "      box-shadow: 0px 1px 2px rgba(60, 64, 67, 0.3), 0px 1px 3px 1px rgba(60, 64, 67, 0.15);\n",
              "      fill: #174EA6;\n",
              "    }\n",
              "\n",
              "    [theme=dark] .colab-df-convert {\n",
              "      background-color: #3B4455;\n",
              "      fill: #D2E3FC;\n",
              "    }\n",
              "\n",
              "    [theme=dark] .colab-df-convert:hover {\n",
              "      background-color: #434B5C;\n",
              "      box-shadow: 0px 1px 3px 1px rgba(0, 0, 0, 0.15);\n",
              "      filter: drop-shadow(0px 1px 2px rgba(0, 0, 0, 0.3));\n",
              "      fill: #FFFFFF;\n",
              "    }\n",
              "  </style>\n",
              "\n",
              "      <script>\n",
              "        const buttonEl =\n",
              "          document.querySelector('#df-15d0d35a-3382-4fe0-83b9-f46eb77139a8 button.colab-df-convert');\n",
              "        buttonEl.style.display =\n",
              "          google.colab.kernel.accessAllowed ? 'block' : 'none';\n",
              "\n",
              "        async function convertToInteractive(key) {\n",
              "          const element = document.querySelector('#df-15d0d35a-3382-4fe0-83b9-f46eb77139a8');\n",
              "          const dataTable =\n",
              "            await google.colab.kernel.invokeFunction('convertToInteractive',\n",
              "                                                     [key], {});\n",
              "          if (!dataTable) return;\n",
              "\n",
              "          const docLinkHtml = 'Like what you see? Visit the ' +\n",
              "            '<a target=\"_blank\" href=https://colab.research.google.com/notebooks/data_table.ipynb>data table notebook</a>'\n",
              "            + ' to learn more about interactive tables.';\n",
              "          element.innerHTML = '';\n",
              "          dataTable['output_type'] = 'display_data';\n",
              "          await google.colab.output.renderOutput(dataTable, element);\n",
              "          const docLink = document.createElement('div');\n",
              "          docLink.innerHTML = docLinkHtml;\n",
              "          element.appendChild(docLink);\n",
              "        }\n",
              "      </script>\n",
              "    </div>\n",
              "  </div>\n",
              "  "
            ]
          },
          "metadata": {},
          "execution_count": 6
        }
      ]
    },
    {
      "cell_type": "code",
      "source": [
        "import pandas as pd\n",
        " \n",
        "details = pd.DataFrame({\n",
        "    'ID': [101, 102, 103, 104, 105,\n",
        "           106, 107, 108, 109, 110],\n",
        "    'NAME': ['Jagroop', 'Praveen', 'Harjot',\n",
        "             'Pooja', 'Rahul', 'Nikita',\n",
        "             'Saurabh', 'Ayush', 'Dolly', \"Mohit\"],\n",
        "    'BRANCH': ['CSE', 'CSE', 'CSE', 'CSE', 'CSE',\n",
        "               'CSE', 'CSE', 'CSE', 'CSE', 'CSE']})\n",
        "\n",
        "fees_status = pd.DataFrame(\n",
        "    {'ID': [101, 102, 103, 104, 105,\n",
        "            106, 107, 108, 109, 110],\n",
        "     'PENDING': ['5000', '250', 'NIL',\n",
        "                 '9000', '15000', 'NIL',\n",
        "                 '4500', '1800', '250', 'NIL']})\n",
        " \n",
        "# Merging Dataframe\n",
        "print(pd.merge(details, fees_status, on='ID'))"
      ],
      "metadata": {
        "colab": {
          "base_uri": "https://localhost:8080/"
        },
        "id": "Px5oTgD3vELj",
        "outputId": "810795cf-0e22-4155-d4ec-c41711310085"
      },
      "execution_count": 2,
      "outputs": [
        {
          "output_type": "stream",
          "name": "stdout",
          "text": [
            "    ID     NAME BRANCH PENDING\n",
            "0  101  Jagroop    CSE    5000\n",
            "1  102  Praveen    CSE     250\n",
            "2  103   Harjot    CSE     NIL\n",
            "3  104    Pooja    CSE    9000\n",
            "4  105    Rahul    CSE   15000\n",
            "5  106   Nikita    CSE     NIL\n",
            "6  107  Saurabh    CSE    4500\n",
            "7  108    Ayush    CSE    1800\n",
            "8  109    Dolly    CSE     250\n",
            "9  110    Mohit    CSE     NIL\n"
          ]
        }
      ]
    },
    {
      "cell_type": "code",
      "source": [
        "\n",
        "# combining or grouping data\n",
        "import pandas as pd\n",
        "car_selling_data = {'Brand': ['Maruti', 'Maruti', 'Maruti',\n",
        "                              'Maruti', 'Hyundai', 'Hyundai',\n",
        "                              'Toyota', 'Mahindra', 'Mahindra',\n",
        "                              'Ford', 'Toyota', 'Ford'],\n",
        "                    'Year':  [2010, 2011, 2009, 2013,\n",
        "                              2010, 2011, 2011, 2010,\n",
        "                              2013, 2010, 2010, 2011],\n",
        "                    'Sold': [6, 7, 9, 8, 3, 5,\n",
        "                             2, 8, 7, 2, 4, 2]\n",
        "df = pd.DataFrame(car_selling_data)\n",
        " \n",
        "# Group the data when year = 2010\n",
        "grouped = df.groupby('Year')\n",
        "print(grouped.get_group(2010))"
      ],
      "metadata": {
        "colab": {
          "base_uri": "https://localhost:8080/"
        },
        "id": "HGvO-UjUvRc0",
        "outputId": "b5b16acc-bf2b-40d8-d13c-e6199e744751"
      },
      "execution_count": 5,
      "outputs": [
        {
          "output_type": "stream",
          "name": "stdout",
          "text": [
            "       Brand  Year  Sold\n",
            "0     Maruti  2010     6\n",
            "4    Hyundai  2010     3\n",
            "7   Mahindra  2010     8\n",
            "9       Ford  2010     2\n",
            "10    Toyota  2010     4\n"
          ]
        }
      ]
    },
    {
      "cell_type": "code",
      "source": [
        "#pivoting or rotating operations\n",
        "import pandas as pd\n",
        "import numpy as np\n",
        "data = pd.DataFrame(np.arange(6).reshape((2,3)),\n",
        " index=pd.Index(['Victoria', 'NSW'], name='state'),\n",
        " columns=pd.Index(['one','two','three'], name='number'))\n",
        "print(data)\n",
        "ndata=data.stack()\n",
        "print(ndata)"
      ],
      "metadata": {
        "colab": {
          "base_uri": "https://localhost:8080/"
        },
        "id": "MeKFG2BkyEi4",
        "outputId": "bc342bba-5ead-444e-dba9-5d1ec8e55ac3"
      },
      "execution_count": 16,
      "outputs": [
        {
          "output_type": "stream",
          "name": "stdout",
          "text": [
            "number    one  two  three\n",
            "state                    \n",
            "Victoria    0    1      2\n",
            "NSW         3    4      5\n",
            "state     number\n",
            "Victoria  one       0\n",
            "          two       1\n",
            "          three     2\n",
            "NSW       one       3\n",
            "          two       4\n",
            "          three     5\n",
            "dtype: int64\n"
          ]
        }
      ]
    },
    {
      "cell_type": "code",
      "source": [
        "#data transformations\n",
        "data=pd.DataFrame({'a':['apple','banana']*3,'b':[1,2,3,3,2,2]})\n",
        "data.duplicated()\n",
        "data.drop_duplicates()\n",
        "data['c']=range(6)\n",
        "data"
      ],
      "metadata": {
        "colab": {
          "base_uri": "https://localhost:8080/",
          "height": 238
        },
        "id": "tDDibtcd0SPu",
        "outputId": "fb5ee3a9-d642-475c-9d7c-183e7a758be9"
      },
      "execution_count": 23,
      "outputs": [
        {
          "output_type": "execute_result",
          "data": {
            "text/plain": [
              "        a  b  c\n",
              "0   apple  1  0\n",
              "1  banana  2  1\n",
              "2   apple  3  2\n",
              "3  banana  3  3\n",
              "4   apple  2  4\n",
              "5  banana  2  5"
            ],
            "text/html": [
              "\n",
              "  <div id=\"df-f50563a9-ce4d-49b0-80f9-478071e64feb\">\n",
              "    <div class=\"colab-df-container\">\n",
              "      <div>\n",
              "<style scoped>\n",
              "    .dataframe tbody tr th:only-of-type {\n",
              "        vertical-align: middle;\n",
              "    }\n",
              "\n",
              "    .dataframe tbody tr th {\n",
              "        vertical-align: top;\n",
              "    }\n",
              "\n",
              "    .dataframe thead th {\n",
              "        text-align: right;\n",
              "    }\n",
              "</style>\n",
              "<table border=\"1\" class=\"dataframe\">\n",
              "  <thead>\n",
              "    <tr style=\"text-align: right;\">\n",
              "      <th></th>\n",
              "      <th>a</th>\n",
              "      <th>b</th>\n",
              "      <th>c</th>\n",
              "    </tr>\n",
              "  </thead>\n",
              "  <tbody>\n",
              "    <tr>\n",
              "      <th>0</th>\n",
              "      <td>apple</td>\n",
              "      <td>1</td>\n",
              "      <td>0</td>\n",
              "    </tr>\n",
              "    <tr>\n",
              "      <th>1</th>\n",
              "      <td>banana</td>\n",
              "      <td>2</td>\n",
              "      <td>1</td>\n",
              "    </tr>\n",
              "    <tr>\n",
              "      <th>2</th>\n",
              "      <td>apple</td>\n",
              "      <td>3</td>\n",
              "      <td>2</td>\n",
              "    </tr>\n",
              "    <tr>\n",
              "      <th>3</th>\n",
              "      <td>banana</td>\n",
              "      <td>3</td>\n",
              "      <td>3</td>\n",
              "    </tr>\n",
              "    <tr>\n",
              "      <th>4</th>\n",
              "      <td>apple</td>\n",
              "      <td>2</td>\n",
              "      <td>4</td>\n",
              "    </tr>\n",
              "    <tr>\n",
              "      <th>5</th>\n",
              "      <td>banana</td>\n",
              "      <td>2</td>\n",
              "      <td>5</td>\n",
              "    </tr>\n",
              "  </tbody>\n",
              "</table>\n",
              "</div>\n",
              "      <button class=\"colab-df-convert\" onclick=\"convertToInteractive('df-f50563a9-ce4d-49b0-80f9-478071e64feb')\"\n",
              "              title=\"Convert this dataframe to an interactive table.\"\n",
              "              style=\"display:none;\">\n",
              "        \n",
              "  <svg xmlns=\"http://www.w3.org/2000/svg\" height=\"24px\"viewBox=\"0 0 24 24\"\n",
              "       width=\"24px\">\n",
              "    <path d=\"M0 0h24v24H0V0z\" fill=\"none\"/>\n",
              "    <path d=\"M18.56 5.44l.94 2.06.94-2.06 2.06-.94-2.06-.94-.94-2.06-.94 2.06-2.06.94zm-11 1L8.5 8.5l.94-2.06 2.06-.94-2.06-.94L8.5 2.5l-.94 2.06-2.06.94zm10 10l.94 2.06.94-2.06 2.06-.94-2.06-.94-.94-2.06-.94 2.06-2.06.94z\"/><path d=\"M17.41 7.96l-1.37-1.37c-.4-.4-.92-.59-1.43-.59-.52 0-1.04.2-1.43.59L10.3 9.45l-7.72 7.72c-.78.78-.78 2.05 0 2.83L4 21.41c.39.39.9.59 1.41.59.51 0 1.02-.2 1.41-.59l7.78-7.78 2.81-2.81c.8-.78.8-2.07 0-2.86zM5.41 20L4 18.59l7.72-7.72 1.47 1.35L5.41 20z\"/>\n",
              "  </svg>\n",
              "      </button>\n",
              "      \n",
              "  <style>\n",
              "    .colab-df-container {\n",
              "      display:flex;\n",
              "      flex-wrap:wrap;\n",
              "      gap: 12px;\n",
              "    }\n",
              "\n",
              "    .colab-df-convert {\n",
              "      background-color: #E8F0FE;\n",
              "      border: none;\n",
              "      border-radius: 50%;\n",
              "      cursor: pointer;\n",
              "      display: none;\n",
              "      fill: #1967D2;\n",
              "      height: 32px;\n",
              "      padding: 0 0 0 0;\n",
              "      width: 32px;\n",
              "    }\n",
              "\n",
              "    .colab-df-convert:hover {\n",
              "      background-color: #E2EBFA;\n",
              "      box-shadow: 0px 1px 2px rgba(60, 64, 67, 0.3), 0px 1px 3px 1px rgba(60, 64, 67, 0.15);\n",
              "      fill: #174EA6;\n",
              "    }\n",
              "\n",
              "    [theme=dark] .colab-df-convert {\n",
              "      background-color: #3B4455;\n",
              "      fill: #D2E3FC;\n",
              "    }\n",
              "\n",
              "    [theme=dark] .colab-df-convert:hover {\n",
              "      background-color: #434B5C;\n",
              "      box-shadow: 0px 1px 3px 1px rgba(0, 0, 0, 0.15);\n",
              "      filter: drop-shadow(0px 1px 2px rgba(0, 0, 0, 0.3));\n",
              "      fill: #FFFFFF;\n",
              "    }\n",
              "  </style>\n",
              "\n",
              "      <script>\n",
              "        const buttonEl =\n",
              "          document.querySelector('#df-f50563a9-ce4d-49b0-80f9-478071e64feb button.colab-df-convert');\n",
              "        buttonEl.style.display =\n",
              "          google.colab.kernel.accessAllowed ? 'block' : 'none';\n",
              "\n",
              "        async function convertToInteractive(key) {\n",
              "          const element = document.querySelector('#df-f50563a9-ce4d-49b0-80f9-478071e64feb');\n",
              "          const dataTable =\n",
              "            await google.colab.kernel.invokeFunction('convertToInteractive',\n",
              "                                                     [key], {});\n",
              "          if (!dataTable) return;\n",
              "\n",
              "          const docLinkHtml = 'Like what you see? Visit the ' +\n",
              "            '<a target=\"_blank\" href=https://colab.research.google.com/notebooks/data_table.ipynb>data table notebook</a>'\n",
              "            + ' to learn more about interactive tables.';\n",
              "          element.innerHTML = '';\n",
              "          dataTable['output_type'] = 'display_data';\n",
              "          await google.colab.output.renderOutput(dataTable, element);\n",
              "          const docLink = document.createElement('div');\n",
              "          docLink.innerHTML = docLinkHtml;\n",
              "          element.appendChild(docLink);\n",
              "        }\n",
              "      </script>\n",
              "    </div>\n",
              "  </div>\n",
              "  "
            ]
          },
          "metadata": {},
          "execution_count": 23
        }
      ]
    },
    {
      "cell_type": "markdown",
      "source": [
        "9.2 Perform data aggreagation and groupwise operations"
      ],
      "metadata": {
        "id": "CscdAH9L2KwM"
      }
    },
    {
      "cell_type": "code",
      "source": [
        "rng = np.random.RandomState(42)\n",
        "ser = pd.Series(rng.rand(5),index=[1,2,3,4,5])\n",
        "print(ser)\n",
        "print(\"the sum is: \",ser.sum())\n",
        "print(\"the max is: \",ser.max())\n",
        "print(\"the min is: \",ser.min())\n",
        "\n"
      ],
      "metadata": {
        "colab": {
          "base_uri": "https://localhost:8080/"
        },
        "id": "DVIBjx822oIS",
        "outputId": "23db6104-a4bd-48e4-ec0c-361c2a5bd0e2"
      },
      "execution_count": 31,
      "outputs": [
        {
          "output_type": "stream",
          "name": "stdout",
          "text": [
            "1    0.374540\n",
            "2    0.950714\n",
            "3    0.731994\n",
            "4    0.598658\n",
            "5    0.156019\n",
            "dtype: float64\n",
            "the sum is:  2.811925491708157\n",
            "the max is:  0.9507143064099162\n",
            "the min is:  0.15601864044243652\n"
          ]
        }
      ]
    },
    {
      "cell_type": "code",
      "source": [
        "df = pd.DataFrame({'key': ['A', 'B', 'C', 'A', 'B', 'C'],\n",
        "                   'data': range(6)},columns=['key', 'data'] )\n",
        "print(df)\n",
        "df.groupby('key').sum()"
      ],
      "metadata": {
        "colab": {
          "base_uri": "https://localhost:8080/",
          "height": 296
        },
        "id": "0tSwGlqo4Oci",
        "outputId": "af3c96c4-3dec-4ce8-bb96-a252e0b5f507"
      },
      "execution_count": 36,
      "outputs": [
        {
          "output_type": "stream",
          "name": "stdout",
          "text": [
            "  key  data\n",
            "0   A     0\n",
            "1   B     1\n",
            "2   C     2\n",
            "3   A     3\n",
            "4   B     4\n",
            "5   C     5\n"
          ]
        },
        {
          "output_type": "execute_result",
          "data": {
            "text/plain": [
              "     data\n",
              "key      \n",
              "A       3\n",
              "B       5\n",
              "C       7"
            ],
            "text/html": [
              "\n",
              "  <div id=\"df-992035a8-53f0-4086-a53c-2c61e0b3b872\">\n",
              "    <div class=\"colab-df-container\">\n",
              "      <div>\n",
              "<style scoped>\n",
              "    .dataframe tbody tr th:only-of-type {\n",
              "        vertical-align: middle;\n",
              "    }\n",
              "\n",
              "    .dataframe tbody tr th {\n",
              "        vertical-align: top;\n",
              "    }\n",
              "\n",
              "    .dataframe thead th {\n",
              "        text-align: right;\n",
              "    }\n",
              "</style>\n",
              "<table border=\"1\" class=\"dataframe\">\n",
              "  <thead>\n",
              "    <tr style=\"text-align: right;\">\n",
              "      <th></th>\n",
              "      <th>data</th>\n",
              "    </tr>\n",
              "    <tr>\n",
              "      <th>key</th>\n",
              "      <th></th>\n",
              "    </tr>\n",
              "  </thead>\n",
              "  <tbody>\n",
              "    <tr>\n",
              "      <th>A</th>\n",
              "      <td>3</td>\n",
              "    </tr>\n",
              "    <tr>\n",
              "      <th>B</th>\n",
              "      <td>5</td>\n",
              "    </tr>\n",
              "    <tr>\n",
              "      <th>C</th>\n",
              "      <td>7</td>\n",
              "    </tr>\n",
              "  </tbody>\n",
              "</table>\n",
              "</div>\n",
              "      <button class=\"colab-df-convert\" onclick=\"convertToInteractive('df-992035a8-53f0-4086-a53c-2c61e0b3b872')\"\n",
              "              title=\"Convert this dataframe to an interactive table.\"\n",
              "              style=\"display:none;\">\n",
              "        \n",
              "  <svg xmlns=\"http://www.w3.org/2000/svg\" height=\"24px\"viewBox=\"0 0 24 24\"\n",
              "       width=\"24px\">\n",
              "    <path d=\"M0 0h24v24H0V0z\" fill=\"none\"/>\n",
              "    <path d=\"M18.56 5.44l.94 2.06.94-2.06 2.06-.94-2.06-.94-.94-2.06-.94 2.06-2.06.94zm-11 1L8.5 8.5l.94-2.06 2.06-.94-2.06-.94L8.5 2.5l-.94 2.06-2.06.94zm10 10l.94 2.06.94-2.06 2.06-.94-2.06-.94-.94-2.06-.94 2.06-2.06.94z\"/><path d=\"M17.41 7.96l-1.37-1.37c-.4-.4-.92-.59-1.43-.59-.52 0-1.04.2-1.43.59L10.3 9.45l-7.72 7.72c-.78.78-.78 2.05 0 2.83L4 21.41c.39.39.9.59 1.41.59.51 0 1.02-.2 1.41-.59l7.78-7.78 2.81-2.81c.8-.78.8-2.07 0-2.86zM5.41 20L4 18.59l7.72-7.72 1.47 1.35L5.41 20z\"/>\n",
              "  </svg>\n",
              "      </button>\n",
              "      \n",
              "  <style>\n",
              "    .colab-df-container {\n",
              "      display:flex;\n",
              "      flex-wrap:wrap;\n",
              "      gap: 12px;\n",
              "    }\n",
              "\n",
              "    .colab-df-convert {\n",
              "      background-color: #E8F0FE;\n",
              "      border: none;\n",
              "      border-radius: 50%;\n",
              "      cursor: pointer;\n",
              "      display: none;\n",
              "      fill: #1967D2;\n",
              "      height: 32px;\n",
              "      padding: 0 0 0 0;\n",
              "      width: 32px;\n",
              "    }\n",
              "\n",
              "    .colab-df-convert:hover {\n",
              "      background-color: #E2EBFA;\n",
              "      box-shadow: 0px 1px 2px rgba(60, 64, 67, 0.3), 0px 1px 3px 1px rgba(60, 64, 67, 0.15);\n",
              "      fill: #174EA6;\n",
              "    }\n",
              "\n",
              "    [theme=dark] .colab-df-convert {\n",
              "      background-color: #3B4455;\n",
              "      fill: #D2E3FC;\n",
              "    }\n",
              "\n",
              "    [theme=dark] .colab-df-convert:hover {\n",
              "      background-color: #434B5C;\n",
              "      box-shadow: 0px 1px 3px 1px rgba(0, 0, 0, 0.15);\n",
              "      filter: drop-shadow(0px 1px 2px rgba(0, 0, 0, 0.3));\n",
              "      fill: #FFFFFF;\n",
              "    }\n",
              "  </style>\n",
              "\n",
              "      <script>\n",
              "        const buttonEl =\n",
              "          document.querySelector('#df-992035a8-53f0-4086-a53c-2c61e0b3b872 button.colab-df-convert');\n",
              "        buttonEl.style.display =\n",
              "          google.colab.kernel.accessAllowed ? 'block' : 'none';\n",
              "\n",
              "        async function convertToInteractive(key) {\n",
              "          const element = document.querySelector('#df-992035a8-53f0-4086-a53c-2c61e0b3b872');\n",
              "          const dataTable =\n",
              "            await google.colab.kernel.invokeFunction('convertToInteractive',\n",
              "                                                     [key], {});\n",
              "          if (!dataTable) return;\n",
              "\n",
              "          const docLinkHtml = 'Like what you see? Visit the ' +\n",
              "            '<a target=\"_blank\" href=https://colab.research.google.com/notebooks/data_table.ipynb>data table notebook</a>'\n",
              "            + ' to learn more about interactive tables.';\n",
              "          element.innerHTML = '';\n",
              "          dataTable['output_type'] = 'display_data';\n",
              "          await google.colab.output.renderOutput(dataTable, element);\n",
              "          const docLink = document.createElement('div');\n",
              "          docLink.innerHTML = docLinkHtml;\n",
              "          element.appendChild(docLink);\n",
              "        }\n",
              "      </script>\n",
              "    </div>\n",
              "  </div>\n",
              "  "
            ]
          },
          "metadata": {},
          "execution_count": 36
        }
      ]
    },
    {
      "cell_type": "code",
      "source": [
        "import seaborn as sns\n",
        "planets = sns.load_dataset('planets')\n",
        "print(planets)\n",
        "print(planets.shape)\n",
        "planets.groupby('method')['year'].describe().unstack()"
      ],
      "metadata": {
        "colab": {
          "base_uri": "https://localhost:8080/"
        },
        "id": "iVtVyIAh4_lp",
        "outputId": "db1ffb95-a728-4431-e62e-563d898ff1ad"
      },
      "execution_count": 38,
      "outputs": [
        {
          "output_type": "stream",
          "name": "stdout",
          "text": [
            "               method  number  orbital_period   mass  distance  year\n",
            "0     Radial Velocity       1      269.300000   7.10     77.40  2006\n",
            "1     Radial Velocity       1      874.774000   2.21     56.95  2008\n",
            "2     Radial Velocity       1      763.000000   2.60     19.84  2011\n",
            "3     Radial Velocity       1      326.030000  19.40    110.62  2007\n",
            "4     Radial Velocity       1      516.220000  10.50    119.47  2009\n",
            "...               ...     ...             ...    ...       ...   ...\n",
            "1030          Transit       1        3.941507    NaN    172.00  2006\n",
            "1031          Transit       1        2.615864    NaN    148.00  2007\n",
            "1032          Transit       1        3.191524    NaN    174.00  2007\n",
            "1033          Transit       1        4.125083    NaN    293.00  2008\n",
            "1034          Transit       1        4.187757    NaN    260.00  2008\n",
            "\n",
            "[1035 rows x 6 columns]\n",
            "(1035, 6)\n"
          ]
        },
        {
          "output_type": "execute_result",
          "data": {
            "text/plain": [
              "       method                       \n",
              "count  Astrometry                          2.0\n",
              "       Eclipse Timing Variations           9.0\n",
              "       Imaging                            38.0\n",
              "       Microlensing                       23.0\n",
              "       Orbital Brightness Modulation       3.0\n",
              "                                         ...  \n",
              "max    Pulsar Timing                    2011.0\n",
              "       Pulsation Timing Variations      2007.0\n",
              "       Radial Velocity                  2014.0\n",
              "       Transit                          2014.0\n",
              "       Transit Timing Variations        2014.0\n",
              "Length: 80, dtype: float64"
            ]
          },
          "metadata": {},
          "execution_count": 38
        }
      ]
    },
    {
      "cell_type": "markdown",
      "source": [
        "9.3 Perform time series operations on a dataset"
      ],
      "metadata": {
        "id": "1XgzoyI45WH_"
      }
    },
    {
      "cell_type": "code",
      "source": [
        "import pandas as pd\n",
        "from datetime import datetime\n",
        "import numpy as np\n",
        " \n",
        "range_date = pd.date_range(start ='1/1/2019', end ='2/1/2019',freq ='H')\n",
        "print(range_date)\n",
        "df = pd.DataFrame(range_date, columns =['date'])\n",
        "df['data'] = np.random.randint(0, 100, size =(len(range_date)))\n",
        "print(df.head(10))"
      ],
      "metadata": {
        "colab": {
          "base_uri": "https://localhost:8080/"
        },
        "id": "2bpGBHXx5aXX",
        "outputId": "2be79ef1-23db-4c26-e25a-27b7b152003a"
      },
      "execution_count": 41,
      "outputs": [
        {
          "output_type": "stream",
          "name": "stdout",
          "text": [
            "DatetimeIndex(['2019-01-01 00:00:00', '2019-01-01 01:00:00',\n",
            "               '2019-01-01 02:00:00', '2019-01-01 03:00:00',\n",
            "               '2019-01-01 04:00:00', '2019-01-01 05:00:00',\n",
            "               '2019-01-01 06:00:00', '2019-01-01 07:00:00',\n",
            "               '2019-01-01 08:00:00', '2019-01-01 09:00:00',\n",
            "               ...\n",
            "               '2019-01-31 15:00:00', '2019-01-31 16:00:00',\n",
            "               '2019-01-31 17:00:00', '2019-01-31 18:00:00',\n",
            "               '2019-01-31 19:00:00', '2019-01-31 20:00:00',\n",
            "               '2019-01-31 21:00:00', '2019-01-31 22:00:00',\n",
            "               '2019-01-31 23:00:00', '2019-02-01 00:00:00'],\n",
            "              dtype='datetime64[ns]', length=745, freq='H')\n",
            "                 date  data\n",
            "0 2019-01-01 00:00:00    29\n",
            "1 2019-01-01 01:00:00    45\n",
            "2 2019-01-01 02:00:00    32\n",
            "3 2019-01-01 03:00:00    52\n",
            "4 2019-01-01 04:00:00    60\n",
            "5 2019-01-01 05:00:00    84\n",
            "6 2019-01-01 06:00:00     4\n",
            "7 2019-01-01 07:00:00    67\n",
            "8 2019-01-01 08:00:00    84\n",
            "9 2019-01-01 09:00:00    65\n"
          ]
        }
      ]
    }
  ]
}