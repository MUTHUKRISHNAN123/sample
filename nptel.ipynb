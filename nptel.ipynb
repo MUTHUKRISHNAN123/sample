{
  "nbformat": 4,
  "nbformat_minor": 0,
  "metadata": {
    "colab": {
      "provenance": [],
      "authorship_tag": "ABX9TyNC3oxvCGDAYB8R6/orukGk",
      "include_colab_link": true
    },
    "kernelspec": {
      "name": "python3",
      "display_name": "Python 3"
    },
    "language_info": {
      "name": "python"
    }
  },
  "cells": [
    {
      "cell_type": "markdown",
      "metadata": {
        "id": "view-in-github",
        "colab_type": "text"
      },
      "source": [
        "<a href=\"https://colab.research.google.com/github/MUTHUKRISHNAN123/sample/blob/main/nptel.ipynb\" target=\"_parent\"><img src=\"https://colab.research.google.com/assets/colab-badge.svg\" alt=\"Open In Colab\"/></a>"
      ]
    },
    {
      "cell_type": "code",
      "execution_count": 1,
      "metadata": {
        "colab": {
          "base_uri": "https://localhost:8080/",
          "height": 485
        },
        "id": "tNEH1R-fGGDI",
        "outputId": "5a7b0b46-33c1-4349-8eb7-3f37af3f0e38"
      },
      "outputs": [
        {
          "name": "stdout",
          "output_type": "stream",
          "text": [
            "{‘Lakshman’: {‘Maths’: 90, ‘English’: 75, ‘Social Science’: 10}\n",
            "\n",
            "\n",
            "\n",
            "\n",
            "\n"
          ]
        },
        {
          "output_type": "error",
          "ename": "KeyboardInterrupt",
          "evalue": "ignored",
          "traceback": [
            "\u001b[0;31m---------------------------------------------------------------------------\u001b[0m",
            "\u001b[0;31mKeyboardInterrupt\u001b[0m                         Traceback (most recent call last)",
            "\u001b[0;32m<ipython-input-1-68446016b9aa>\u001b[0m in \u001b[0;36m<module>\u001b[0;34m\u001b[0m\n\u001b[1;32m      5\u001b[0m     \u001b[0md\u001b[0m\u001b[0;34m[\u001b[0m\u001b[0mi\u001b[0m\u001b[0;34m]\u001b[0m \u001b[0;34m=\u001b[0m \u001b[0;34m{\u001b[0m\u001b[0;34m}\u001b[0m\u001b[0;34m\u001b[0m\u001b[0;34m\u001b[0m\u001b[0m\n\u001b[1;32m      6\u001b[0m     \u001b[0msubjects\u001b[0m \u001b[0;34m=\u001b[0m \u001b[0minput\u001b[0m\u001b[0;34m(\u001b[0m\u001b[0;34m)\u001b[0m\u001b[0;34m.\u001b[0m\u001b[0msplit\u001b[0m\u001b[0;34m(\u001b[0m\u001b[0;34m)\u001b[0m\u001b[0;34m\u001b[0m\u001b[0;34m\u001b[0m\u001b[0m\n\u001b[0;32m----> 7\u001b[0;31m     \u001b[0mmarks\u001b[0m \u001b[0;34m=\u001b[0m \u001b[0minput\u001b[0m\u001b[0;34m(\u001b[0m\u001b[0;34m)\u001b[0m\u001b[0;34m.\u001b[0m\u001b[0msplit\u001b[0m\u001b[0;34m(\u001b[0m\u001b[0;34m)\u001b[0m\u001b[0;34m\u001b[0m\u001b[0;34m\u001b[0m\u001b[0m\n\u001b[0m\u001b[1;32m      8\u001b[0m     \u001b[0;32mfor\u001b[0m \u001b[0mj\u001b[0m \u001b[0;32min\u001b[0m \u001b[0mrange\u001b[0m\u001b[0;34m(\u001b[0m\u001b[0mlen\u001b[0m\u001b[0;34m(\u001b[0m\u001b[0msubjects\u001b[0m\u001b[0;34m)\u001b[0m\u001b[0;34m)\u001b[0m\u001b[0;34m:\u001b[0m\u001b[0;34m\u001b[0m\u001b[0;34m\u001b[0m\u001b[0m\n\u001b[1;32m      9\u001b[0m         \u001b[0md\u001b[0m\u001b[0;34m[\u001b[0m\u001b[0mi\u001b[0m\u001b[0;34m]\u001b[0m\u001b[0;34m[\u001b[0m\u001b[0msubjects\u001b[0m\u001b[0;34m[\u001b[0m\u001b[0mj\u001b[0m\u001b[0;34m]\u001b[0m\u001b[0;34m]\u001b[0m \u001b[0;34m=\u001b[0m \u001b[0mint\u001b[0m\u001b[0;34m(\u001b[0m\u001b[0mmarks\u001b[0m\u001b[0;34m[\u001b[0m\u001b[0mj\u001b[0m\u001b[0;34m]\u001b[0m\u001b[0;34m)\u001b[0m\u001b[0;34m\u001b[0m\u001b[0;34m\u001b[0m\u001b[0m\n",
            "\u001b[0;32m/usr/local/lib/python3.7/dist-packages/ipykernel/kernelbase.py\u001b[0m in \u001b[0;36mraw_input\u001b[0;34m(self, prompt)\u001b[0m\n\u001b[1;32m    861\u001b[0m             \u001b[0mself\u001b[0m\u001b[0;34m.\u001b[0m\u001b[0m_parent_ident\u001b[0m\u001b[0;34m,\u001b[0m\u001b[0;34m\u001b[0m\u001b[0;34m\u001b[0m\u001b[0m\n\u001b[1;32m    862\u001b[0m             \u001b[0mself\u001b[0m\u001b[0;34m.\u001b[0m\u001b[0m_parent_header\u001b[0m\u001b[0;34m,\u001b[0m\u001b[0;34m\u001b[0m\u001b[0;34m\u001b[0m\u001b[0m\n\u001b[0;32m--> 863\u001b[0;31m             \u001b[0mpassword\u001b[0m\u001b[0;34m=\u001b[0m\u001b[0;32mFalse\u001b[0m\u001b[0;34m,\u001b[0m\u001b[0;34m\u001b[0m\u001b[0;34m\u001b[0m\u001b[0m\n\u001b[0m\u001b[1;32m    864\u001b[0m         )\n\u001b[1;32m    865\u001b[0m \u001b[0;34m\u001b[0m\u001b[0m\n",
            "\u001b[0;32m/usr/local/lib/python3.7/dist-packages/ipykernel/kernelbase.py\u001b[0m in \u001b[0;36m_input_request\u001b[0;34m(self, prompt, ident, parent, password)\u001b[0m\n\u001b[1;32m    902\u001b[0m             \u001b[0;32mexcept\u001b[0m \u001b[0mKeyboardInterrupt\u001b[0m\u001b[0;34m:\u001b[0m\u001b[0;34m\u001b[0m\u001b[0;34m\u001b[0m\u001b[0m\n\u001b[1;32m    903\u001b[0m                 \u001b[0;31m# re-raise KeyboardInterrupt, to truncate traceback\u001b[0m\u001b[0;34m\u001b[0m\u001b[0;34m\u001b[0m\u001b[0;34m\u001b[0m\u001b[0m\n\u001b[0;32m--> 904\u001b[0;31m                 \u001b[0;32mraise\u001b[0m \u001b[0mKeyboardInterrupt\u001b[0m\u001b[0;34m(\u001b[0m\u001b[0;34m\"Interrupted by user\"\u001b[0m\u001b[0;34m)\u001b[0m \u001b[0;32mfrom\u001b[0m \u001b[0;32mNone\u001b[0m\u001b[0;34m\u001b[0m\u001b[0;34m\u001b[0m\u001b[0m\n\u001b[0m\u001b[1;32m    905\u001b[0m             \u001b[0;32mexcept\u001b[0m \u001b[0mException\u001b[0m \u001b[0;32mas\u001b[0m \u001b[0me\u001b[0m\u001b[0;34m:\u001b[0m\u001b[0;34m\u001b[0m\u001b[0;34m\u001b[0m\u001b[0m\n\u001b[1;32m    906\u001b[0m                 \u001b[0mself\u001b[0m\u001b[0;34m.\u001b[0m\u001b[0mlog\u001b[0m\u001b[0;34m.\u001b[0m\u001b[0mwarning\u001b[0m\u001b[0;34m(\u001b[0m\u001b[0;34m\"Invalid Message:\"\u001b[0m\u001b[0;34m,\u001b[0m \u001b[0mexc_info\u001b[0m\u001b[0;34m=\u001b[0m\u001b[0;32mTrue\u001b[0m\u001b[0;34m)\u001b[0m\u001b[0;34m\u001b[0m\u001b[0;34m\u001b[0m\u001b[0m\n",
            "\u001b[0;31mKeyboardInterrupt\u001b[0m: Interrupted by user"
          ]
        }
      ],
      "source": [
        "name = input().split()\n",
        "\n",
        "d = {}\n",
        "for i in name:\n",
        "    d[i] = {}\n",
        "    subjects = input().split()\n",
        "    marks = input().split()\n",
        "    for j in range(len(subjects)):\n",
        "        d[i][subjects[j]] = int(marks[j])\n",
        "\n",
        "print(converMarks(d))"
      ]
    },
    {
      "cell_type": "code",
      "source": [
        "def convertMarks(*arg):\n",
        "\td = {}\n",
        "\tfor i in name:\n",
        "    d[i] = {}\n",
        "    subjects = input().split()\n",
        "    marks = input().split()\n",
        "    for j in range(len(subjects)):\n",
        "      if(marks>=91 and marks<=100):\n",
        "        d[i][subjects[j]] = 'A'\n",
        "        elif(marks>=81 and marks<=90):\n",
        "          d[i][subjects[j]] = 'B'\n",
        "        elif(marks>=71 and marks<=80):\n",
        "          d[i][subjects[j]] = 'C'\n",
        "        elif(marks>=61 and marks<=70):\n",
        "          d[i][subjects[j]] = 'D'\n",
        "        elif(marks>=51 and marks<60):\n",
        "          d[i][subjects[j]] = 'E+'\n",
        "        elif(marks>=41 and marks<=50):\n",
        "          d[i][subjects[j]] = 'E'\n",
        "        else:\n",
        "          d[i][subjects[j]] = 'F'\n",
        "    \t\t\n",
        "    \t\n",
        "            \n",
        "\tprint(d)\n",
        "name = input().split()\n",
        "\n",
        "d = {}\n",
        "for i in name:\n",
        "    d[i] = {}\n",
        "    subjects = input().split()\n",
        "    marks = input().split()\n",
        "    for j in range(len(subjects)):\n",
        "        d[i][subjects[j]] = int(marks[j])\n",
        "\n",
        "print(converMarks(d))\n"
      ],
      "metadata": {
        "colab": {
          "base_uri": "https://localhost:8080/",
          "height": 131
        },
        "id": "GxeYisv5G4_J",
        "outputId": "3ce13fdf-569e-4c68-e21e-a9fc9f3aed41"
      },
      "execution_count": 11,
      "outputs": [
        {
          "output_type": "error",
          "ename": "IndentationError",
          "evalue": "ignored",
          "traceback": [
            "\u001b[0;36m  File \u001b[0;32m\"<tokenize>\"\u001b[0;36m, line \u001b[0;32m4\u001b[0m\n\u001b[0;31m    d[i] = {}\u001b[0m\n\u001b[0m    ^\u001b[0m\n\u001b[0;31mIndentationError\u001b[0m\u001b[0;31m:\u001b[0m unindent does not match any outer indentation level\n"
          ]
        }
      ]
    },
    {
      "cell_type": "code",
      "source": [
        "def convertMarks(*arg):\n",
        "\td = {}\n",
        "\tfor i in name:\n",
        "    d[i] = {}\n",
        "    subjects = input().split()\n",
        "    marks = input().split()\n",
        "    for j in range(len(subjects)):\n",
        "      if(marks>=91 and marks<=100):\n",
        "        d[i][subjects[j]] = 'A'\n",
        "      elif(marks>=81 and marks<=90):\n",
        "        d[i][subjects[j]] = 'B'\n",
        "      elif(marks>=71 and marks<=80):\n",
        "        d[i][subjects[j]] = 'C'\n",
        "      elif(marks>=61 and marks<=70):\n",
        "        d[i][subjects[j]] = 'D'\n",
        "      elif(marks>=51 and marks<60):\n",
        "        d[i][subjects[j]] = 'E+'\n",
        "      elif(marks>=41 and marks<=50):\n",
        "        d[i][subjects[j]] = 'E'\n",
        "      else:\n",
        "        d[i][subjects[j]] = 'F'\n",
        "\n",
        "\n",
        "\tprint(d)"
      ],
      "metadata": {
        "colab": {
          "base_uri": "https://localhost:8080/",
          "height": 131
        },
        "id": "hXEL-ujFLUDt",
        "outputId": "024e504b-1bd5-4a57-c73d-70bef8188934"
      },
      "execution_count": 15,
      "outputs": [
        {
          "output_type": "error",
          "ename": "IndentationError",
          "evalue": "ignored",
          "traceback": [
            "\u001b[0;36m  File \u001b[0;32m\"<tokenize>\"\u001b[0;36m, line \u001b[0;32m4\u001b[0m\n\u001b[0;31m    d[i] = {}\u001b[0m\n\u001b[0m    ^\u001b[0m\n\u001b[0;31mIndentationError\u001b[0m\u001b[0;31m:\u001b[0m unindent does not match any outer indentation level\n"
          ]
        }
      ]
    },
    {
      "cell_type": "code",
      "source": [
        "a,b=(input(\"enter the num: \")).split(',')\n",
        "print(a)\n",
        "print(b)"
      ],
      "metadata": {
        "colab": {
          "base_uri": "https://localhost:8080/"
        },
        "id": "Vyl1yd66NpXA",
        "outputId": "a4e2cd2e-67ed-4e9b-d1c0-0e742cf154c0"
      },
      "execution_count": 26,
      "outputs": [
        {
          "output_type": "stream",
          "name": "stdout",
          "text": [
            "enter the num: 6,7\n",
            "6\n",
            "7\n"
          ]
        }
      ]
    },
    {
      "cell_type": "code",
      "source": [
        "N,M=input().split()\n",
        "x=list(input().split())\n",
        "z=sum(x)\n",
        "y=z/m\n",
        "print(y)"
      ],
      "metadata": {
        "colab": {
          "base_uri": "https://localhost:8080/"
        },
        "id": "WCfCyYQbQYVT",
        "outputId": "fa4b5320-c887-419f-c7b5-ef65634e5ce7"
      },
      "execution_count": 43,
      "outputs": [
        {
          "output_type": "stream",
          "name": "stdout",
          "text": [
            "4 6\n",
            "1 2 3 4 5 \n",
            "['1', '2', '3', '4', '5']\n",
            "4\n",
            "6\n"
          ]
        }
      ]
    },
    {
      "cell_type": "code",
      "source": [
        "N,M=input().split()\n",
        "a=list(input().split())\n",
        "x=sum(a)\n",
        "z=x/M\n",
        "print(z,end=' ')\n"
      ],
      "metadata": {
        "colab": {
          "base_uri": "https://localhost:8080/",
          "height": 270
        },
        "id": "-nBIJpiIV8R2",
        "outputId": "298b68a1-02b6-4faa-f0b7-23a3f8d75da1"
      },
      "execution_count": 44,
      "outputs": [
        {
          "name": "stdout",
          "output_type": "stream",
          "text": [
            "7 3\n",
            "1 2 3 4 5 6 7\n"
          ]
        },
        {
          "output_type": "error",
          "ename": "TypeError",
          "evalue": "ignored",
          "traceback": [
            "\u001b[0;31m---------------------------------------------------------------------------\u001b[0m",
            "\u001b[0;31mTypeError\u001b[0m                                 Traceback (most recent call last)",
            "\u001b[0;32m<ipython-input-44-7c3e6f29379c>\u001b[0m in \u001b[0;36m<module>\u001b[0;34m\u001b[0m\n\u001b[1;32m      1\u001b[0m \u001b[0mN\u001b[0m\u001b[0;34m,\u001b[0m\u001b[0mM\u001b[0m\u001b[0;34m=\u001b[0m\u001b[0minput\u001b[0m\u001b[0;34m(\u001b[0m\u001b[0;34m)\u001b[0m\u001b[0;34m.\u001b[0m\u001b[0msplit\u001b[0m\u001b[0;34m(\u001b[0m\u001b[0;34m)\u001b[0m\u001b[0;34m\u001b[0m\u001b[0;34m\u001b[0m\u001b[0m\n\u001b[1;32m      2\u001b[0m \u001b[0ma\u001b[0m\u001b[0;34m=\u001b[0m\u001b[0mlist\u001b[0m\u001b[0;34m(\u001b[0m\u001b[0minput\u001b[0m\u001b[0;34m(\u001b[0m\u001b[0;34m)\u001b[0m\u001b[0;34m.\u001b[0m\u001b[0msplit\u001b[0m\u001b[0;34m(\u001b[0m\u001b[0;34m)\u001b[0m\u001b[0;34m)\u001b[0m\u001b[0;34m\u001b[0m\u001b[0;34m\u001b[0m\u001b[0m\n\u001b[0;32m----> 3\u001b[0;31m \u001b[0mx\u001b[0m\u001b[0;34m=\u001b[0m\u001b[0msum\u001b[0m\u001b[0;34m(\u001b[0m\u001b[0ma\u001b[0m\u001b[0;34m)\u001b[0m\u001b[0;34m\u001b[0m\u001b[0;34m\u001b[0m\u001b[0m\n\u001b[0m\u001b[1;32m      4\u001b[0m \u001b[0mz\u001b[0m\u001b[0;34m=\u001b[0m\u001b[0mx\u001b[0m\u001b[0;34m/\u001b[0m\u001b[0mM\u001b[0m\u001b[0;34m\u001b[0m\u001b[0;34m\u001b[0m\u001b[0m\n\u001b[1;32m      5\u001b[0m \u001b[0mprint\u001b[0m\u001b[0;34m(\u001b[0m\u001b[0mz\u001b[0m\u001b[0;34m,\u001b[0m\u001b[0mend\u001b[0m\u001b[0;34m=\u001b[0m\u001b[0;34m' '\u001b[0m\u001b[0;34m)\u001b[0m\u001b[0;34m\u001b[0m\u001b[0;34m\u001b[0m\u001b[0m\n",
            "\u001b[0;31mTypeError\u001b[0m: unsupported operand type(s) for +: 'int' and 'str'"
          ]
        }
      ]
    },
    {
      "cell_type": "code",
      "source": [
        "N,M=map(int,input().split())\n",
        "a=list(map(int,input().split()))\n",
        "x=sum(a)\n",
        "z=x%M\n",
        "print(z,end=' ')"
      ],
      "metadata": {
        "colab": {
          "base_uri": "https://localhost:8080/"
        },
        "id": "28O2jJjqW7-0",
        "outputId": "6263a609-75ec-4fd4-dd28-a971f84f6926"
      },
      "execution_count": 46,
      "outputs": [
        {
          "output_type": "stream",
          "name": "stdout",
          "text": [
            "7 3\n",
            "1 2 3 4 5 6 7\n",
            "1 "
          ]
        }
      ]
    },
    {
      "cell_type": "code",
      "source": [
        "def converMarks(d):\n",
        "  for i in d.keys():\n",
        "    for j in d[i].keys():\n",
        "      marks=d[i][j]\n",
        "      if(marks>=91 and marks<=100):\n",
        "        d[i][j] = 'A'\n",
        "      elif(marks>=81 and marks<=90):\n",
        "        d[i][j] = 'B'\n",
        "      elif(marks>=71 and marks<=80):\n",
        "        d[i][j] = 'C'\n",
        "      elif(marks>=61 and marks<=70):\n",
        "        d[i][j] = 'D'\n",
        "      elif(marks>=51 and marks<60):\n",
        "        d[i][j] = 'E+'\n",
        "      elif(marks>=41 and marks<=50):\n",
        "        d[i][j] = 'E'\n",
        "      else:\n",
        "        d[i][j] = 'F'\n",
        "  return(d)\n",
        " \n",
        "name = input().split()\n",
        "\n",
        "d = {}\n",
        "for i in name:\n",
        "    d[i] = {}\n",
        "    subjects = input().split()\n",
        "    marks = input().split()\n",
        "    for j in range(len(subjects)):\n",
        "        d[i][subjects[j]] = int(marks[j])\n",
        "\n",
        "print(converMarks(d))"
      ],
      "metadata": {
        "colab": {
          "base_uri": "https://localhost:8080/"
        },
        "id": "BBaDKnrxX2J6",
        "outputId": "e2ae5d7d-15ec-4ac0-ca53-3544efa4440b"
      },
      "execution_count": 64,
      "outputs": [
        {
          "output_type": "stream",
          "name": "stdout",
          "text": [
            "aditi aron\n",
            "social_networks discrete_maths java elective\n",
            "71 97 73 29\n",
            "social_networks discrete_maths java elective science maths deep_learning english\n",
            "71 97 73 29 44 48 77 29\n",
            "{'aditi': {'social_networks': 'C', 'discrete_maths': 'A', 'java': 'C', 'elective': 'F'}, 'aron': {'social_networks': 'C', 'discrete_maths': 'A', 'java': 'C', 'elective': 'F', 'science': 'E', 'maths': 'E', 'deep_learning': 'C', 'english': 'F'}}\n"
          ]
        }
      ]
    },
    {
      "cell_type": "markdown",
      "source": [
        "arun anshika aditi aron\n",
        "\n",
        "social_networks discrete_maths java elective\n",
        "\n",
        "71 97 73 29\n",
        "\n",
        "social_networks discrete_maths java elective\n",
        "\n",
        "29 44 48 77\n",
        "\n",
        "social_networks discrete_maths java elective science maths deep_learning english\n",
        "\n",
        "71 97 73 29 44 48 77 29\n",
        "\n",
        "social_networks discrete_maths java elective science maths deep_learning english c++\n",
        "\n",
        "71 97 73 29 44 48 77 29 28\n"
      ],
      "metadata": {
        "id": "JrhiQ0jCcIrn"
      }
    }
  ]
}