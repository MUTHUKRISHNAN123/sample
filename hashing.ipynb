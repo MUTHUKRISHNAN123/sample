{
  "nbformat": 4,
  "nbformat_minor": 0,
  "metadata": {
    "colab": {
      "provenance": [],
      "authorship_tag": "ABX9TyMrz5pPpVj89qrmwMNY5mbO",
      "include_colab_link": true
    },
    "kernelspec": {
      "name": "python3",
      "display_name": "Python 3"
    },
    "language_info": {
      "name": "python"
    }
  },
  "cells": [
    {
      "cell_type": "markdown",
      "metadata": {
        "id": "view-in-github",
        "colab_type": "text"
      },
      "source": [
        "<a href=\"https://colab.research.google.com/github/MUTHUKRISHNAN123/sample/blob/main/hashing.ipynb\" target=\"_parent\"><img src=\"https://colab.research.google.com/assets/colab-badge.svg\" alt=\"Open In Colab\"/></a>"
      ]
    },
    {
      "cell_type": "code",
      "execution_count": 6,
      "metadata": {
        "colab": {
          "base_uri": "https://localhost:8080/"
        },
        "id": "iQh4f-Axa_FI",
        "outputId": "ada4db3b-b229-49cc-f2a4-d936c68baf14"
      },
      "outputs": [
        {
          "output_type": "stream",
          "name": "stdout",
          "text": [
            "Enter the string : fhyt\n",
            "5fb49b2bb38f2440263bfc16de1abf801f325430695851a6e9bef1ed7e7cf760\n"
          ]
        }
      ],
      "source": [
        "import hashlib\n",
        "string=input(\"Enter the string : \")\n",
        "hash=hashlib.sha256(string.encode())\n",
        "print(hash.hexdigest())"
      ]
    },
    {
      "cell_type": "code",
      "source": [
        "a=\"5fb49b2bb38f2440263bfc16de1abf801f325430695851a6e9bef1ed7e7cf760\"\n",
        "print(len(a))"
      ],
      "metadata": {
        "colab": {
          "base_uri": "https://localhost:8080/"
        },
        "id": "jt8jUhOodOia",
        "outputId": "aeac59db-4397-4672-83ba-e842d7bfa4a3"
      },
      "execution_count": 9,
      "outputs": [
        {
          "output_type": "stream",
          "name": "stdout",
          "text": [
            "64\n"
          ]
        }
      ]
    }
  ]
}