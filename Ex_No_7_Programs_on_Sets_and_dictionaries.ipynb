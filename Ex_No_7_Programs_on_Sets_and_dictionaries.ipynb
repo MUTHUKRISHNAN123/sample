{
  "nbformat": 4,
  "nbformat_minor": 0,
  "metadata": {
    "colab": {
      "provenance": [],
      "authorship_tag": "ABX9TyNjZlkyvU6AqYaG52zCgDmo",
      "include_colab_link": true
    },
    "kernelspec": {
      "name": "python3",
      "display_name": "Python 3"
    },
    "language_info": {
      "name": "python"
    }
  },
  "cells": [
    {
      "cell_type": "markdown",
      "metadata": {
        "id": "view-in-github",
        "colab_type": "text"
      },
      "source": [
        "<a href=\"https://colab.research.google.com/github/MUTHUKRISHNAN123/sample/blob/main/Ex_No_7_Programs_on_Sets_and_dictionaries.ipynb\" target=\"_parent\"><img src=\"https://colab.research.google.com/assets/colab-badge.svg\" alt=\"Open In Colab\"/></a>"
      ]
    },
    {
      "cell_type": "markdown",
      "source": [
        "1. Write a program that generates a set of prime numbers and another set of odd numbers.\n",
        " Demonstrate the result of union, intersection, difference and symmetric difference operations on these sets."
      ],
      "metadata": {
        "id": "aC308dFooTXu"
      }
    },
    {
      "cell_type": "code",
      "source": [
        "prime=set()\n",
        "for x in range(1,30):\n",
        "  if x>1:\n",
        "      if x==2:\n",
        "          prime.add(x)\n",
        "          continue\n",
        "      for y in range(2,30):\n",
        "        if (x%y)==0:\n",
        "            break\n",
        "        else:\n",
        "            prime.add(x)\n",
        "odd=set([x*2+1 for x in range(0,5)])\n",
        "print(prime)\n",
        "print(odd)\n",
        "print(\"The union is:\",odd.union(prime))\n",
        "print(\"The intersection is:\",odd.intersection(prime))\n",
        "print(\"The difference is:\",odd.difference(prime))\n",
        "print(\"The symmetric difference is:\",odd.symmetric_difference(prime))\n",
        "      \n",
        "  \n",
        "\n"
      ],
      "metadata": {
        "colab": {
          "base_uri": "https://localhost:8080/"
        },
        "id": "Kw31MF6IoVd6",
        "outputId": "d77e4e3a-ef83-4693-87f5-aa5594234896"
      },
      "execution_count": 33,
      "outputs": [
        {
          "output_type": "stream",
          "name": "stdout",
          "text": [
            "{2, 3, 5, 7, 9, 11, 13, 15, 17, 19, 21, 23, 25, 27, 29}\n",
            "{1, 3, 5, 7, 9}\n",
            "The union is: {1, 2, 3, 5, 7, 9, 11, 13, 15, 17, 19, 21, 23, 25, 27, 29}\n",
            "The intersection is: {9, 3, 5, 7}\n",
            "The difference is: {1}\n",
            "The symmetric difference is: {1, 2, 11, 13, 15, 17, 19, 21, 23, 25, 27, 29}\n"
          ]
        }
      ]
    },
    {
      "cell_type": "markdown",
      "source": [
        "2. Write a program that has a dictionary of names of students and a list of their marks in 4 subjects. \n",
        "Create another dictionary from this dictionary that has the name of the students and their total marks.\n",
        " Find out the topper and his/her score.\n"
      ],
      "metadata": {
        "id": "gBkC70U5z5yL"
      }
    },
    {
      "cell_type": "code",
      "source": [
        "dic={'name':{'muthu':0,'kannan':0,'sasi':0,'sridarshan':0}}\n",
        "lis=[[10,100,100,100],[100,80,100,100],[100,100,100,100],[10,100,100,100]]\n",
        "mod_dic=dic.copy()\n",
        "x=0\n",
        "for i,j in mod_dic.items():\n",
        "  for key in j:\n",
        "    # for x in range(len(lis)):\n",
        "      j[key]=int(sum(lis[x]))\n",
        "      x+=1\n",
        "\n",
        "print(mod_dic['name'])\n",
        "v=list(mod_dic['name'].values())\n",
        "k=list(mod_dic['name'].keys())\n",
        "print('The topper is:',k[v.index(max(v))],'and His mark is:',v[v.index(max(v))])\n",
        "\n"
      ],
      "metadata": {
        "colab": {
          "base_uri": "https://localhost:8080/"
        },
        "id": "c2Ti-nGAz_MX",
        "outputId": "13e003c1-e028-43ca-fa08-42a476787636"
      },
      "execution_count": 96,
      "outputs": [
        {
          "output_type": "stream",
          "name": "stdout",
          "text": [
            "{'muthu': 310, 'kannan': 380, 'sasi': 400, 'sridarshan': 310}\n",
            "The topper is: sasi and His mark is: 400\n"
          ]
        }
      ]
    },
    {
      "cell_type": "markdown",
      "source": [
        "\n",
        "3. Write a program that has a set of words in English language and their corresponding words in German.\n",
        " \n",
        "Define another dictionary that has a list of words in German and their corresponding words in French. \n",
        "\n",
        "Take all words from English language and display their meanings in both the languages."
      ],
      "metadata": {
        "id": "9W5aiH41XNfn"
      }
    },
    {
      "cell_type": "code",
      "source": [
        "c={'hi':'hallo','mom':'mamma','dad':'papa','teacher':'lehrerin'}\n",
        "d={'hallo':'bonjour','mamma':'maman','papa':'pere','lehrerin':'prof'}\n",
        "z=0\n",
        "for i,j in c.items():\n",
        "  for x,y in d.items():\n",
        "    print('The English word',list(c.keys())[z] ,'equivalent to German is',c[i],'and to frech is',d[x])\n",
        "    if z==3:\n",
        "      break\n",
        "    z+=1\n"
      ],
      "metadata": {
        "colab": {
          "base_uri": "https://localhost:8080/"
        },
        "id": "AV60ozH3Xgvi",
        "outputId": "1306bb58-1634-4526-c6f8-11e3a84330dc"
      },
      "execution_count": 136,
      "outputs": [
        {
          "output_type": "stream",
          "name": "stdout",
          "text": [
            "The English word hi equivalent to German is hallo and to frech is bonjour\n",
            "The English word mom equivalent to German is hallo and to frech is maman\n",
            "The English word dad equivalent to German is hallo and to frech is pere\n",
            "The English word teacher equivalent to German is hallo and to frech is prof\n",
            "The English word teacher equivalent to German is mamma and to frech is bonjour\n",
            "The English word teacher equivalent to German is papa and to frech is bonjour\n",
            "The English word teacher equivalent to German is lehrerin and to frech is bonjour\n"
          ]
        }
      ]
    }
  ]
}