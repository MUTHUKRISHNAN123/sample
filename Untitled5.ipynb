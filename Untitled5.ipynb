{
  "nbformat": 4,
  "nbformat_minor": 0,
  "metadata": {
    "colab": {
      "provenance": [],
      "authorship_tag": "ABX9TyMdZNrd7MhkgTrrDJDQnekg",
      "include_colab_link": true
    },
    "kernelspec": {
      "name": "python3",
      "display_name": "Python 3"
    },
    "language_info": {
      "name": "python"
    }
  },
  "cells": [
    {
      "cell_type": "markdown",
      "metadata": {
        "id": "view-in-github",
        "colab_type": "text"
      },
      "source": [
        "<a href=\"https://colab.research.google.com/github/MUTHUKRISHNAN123/sample/blob/main/Untitled5.ipynb\" target=\"_parent\"><img src=\"https://colab.research.google.com/assets/colab-badge.svg\" alt=\"Open In Colab\"/></a>"
      ]
    },
    {
      "cell_type": "markdown",
      "source": [
        "(a) Print the total number of items in the list."
      ],
      "metadata": {
        "id": "0HdxtHyFoKRF"
      }
    },
    {
      "cell_type": "code",
      "execution_count": 12,
      "metadata": {
        "colab": {
          "base_uri": "https://localhost:8080/"
        },
        "id": "ZgOWDX7ok74o",
        "outputId": "0fe2f0f1-2b69-44a4-a6cc-620e26941390"
      },
      "outputs": [
        {
          "output_type": "stream",
          "name": "stdout",
          "text": [
            "2\n",
            "3\n",
            "4\n",
            "5\n",
            "101\n",
            "[2, 3, 4, 5]\n",
            "4\n"
          ]
        }
      ],
      "source": [
        "a=[]\n",
        "while(True):\n",
        "    inn=int(input())\n",
        "    if(inn==101):\n",
        "      break\n",
        "    else:\n",
        "      a.append(inn)\n",
        "print(a)\n",
        "print(len(a))\n"
      ]
    },
    {
      "cell_type": "markdown",
      "source": [
        "(b) Print the last item in the list."
      ],
      "metadata": {
        "id": "W7NF_bt8oNr9"
      }
    },
    {
      "cell_type": "code",
      "source": [
        "a=[]\n",
        "while(True):\n",
        "    inn=int(input())\n",
        "    if(inn==101):\n",
        "      break\n",
        "    else:\n",
        "      a.append(inn)\n",
        "print(a)\n",
        "print(a[-1])"
      ],
      "metadata": {
        "colab": {
          "base_uri": "https://localhost:8080/"
        },
        "id": "ray0697LoVjW",
        "outputId": "01de6394-ff04-403f-a9c0-9240b90aafaf"
      },
      "execution_count": 13,
      "outputs": [
        {
          "output_type": "stream",
          "name": "stdout",
          "text": [
            "2\n",
            "3\n",
            "4\n",
            "5\n",
            "101\n",
            "[2, 3, 4, 5]\n",
            "5\n"
          ]
        }
      ]
    },
    {
      "cell_type": "markdown",
      "source": [
        "(c) Print the list in reverse order."
      ],
      "metadata": {
        "id": "8rhGzrwjokTk"
      }
    },
    {
      "cell_type": "code",
      "source": [
        "a=[]\n",
        "while(True):\n",
        "    inn=int(input())\n",
        "    if(inn==101):\n",
        "      break\n",
        "    else:\n",
        "      a.append(inn)\n",
        "print(a)\n",
        "a.reverse()\n",
        "print(a)"
      ],
      "metadata": {
        "colab": {
          "base_uri": "https://localhost:8080/"
        },
        "id": "by0-uQheonIV",
        "outputId": "eb8dd575-e281-441c-c422-4afe13bd94a4"
      },
      "execution_count": 16,
      "outputs": [
        {
          "output_type": "stream",
          "name": "stdout",
          "text": [
            "1\n",
            "2\n",
            "190\n",
            "4\n",
            "77\n",
            "101\n",
            "[1, 2, 190, 4, 77]\n",
            "[77, 4, 190, 2, 1]\n"
          ]
        }
      ]
    },
    {
      "cell_type": "markdown",
      "source": [
        "(d) Print Yes if the list contains a 5 and No otherwise."
      ],
      "metadata": {
        "id": "Y_hbf2sipeYM"
      }
    },
    {
      "cell_type": "code",
      "source": [
        "a=[]\n",
        "while(True):\n",
        "    inn=int(input())\n",
        "    if(inn==101):\n",
        "      break\n",
        "    else:\n",
        "      a.append(inn)\n",
        "print(a)\n",
        "count=0\n",
        "for i in a:\n",
        "  if i==5:\n",
        "    count=count+1\n",
        "print(count)\n"
      ],
      "metadata": {
        "colab": {
          "base_uri": "https://localhost:8080/"
        },
        "id": "MToNGPfFpjBE",
        "outputId": "8ca54b6a-2a59-4da9-fb7d-c1634de5a23c"
      },
      "execution_count": 19,
      "outputs": [
        {
          "output_type": "stream",
          "name": "stdout",
          "text": [
            "3\n",
            "3\n",
            "4\n",
            "4\n",
            "101\n",
            "[3, 3, 4, 4]\n",
            "0\n"
          ]
        }
      ]
    }
  ]
}