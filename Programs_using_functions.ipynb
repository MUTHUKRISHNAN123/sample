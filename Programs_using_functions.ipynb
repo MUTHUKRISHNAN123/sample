{
  "nbformat": 4,
  "nbformat_minor": 0,
  "metadata": {
    "colab": {
      "provenance": [],
      "authorship_tag": "ABX9TyN07c5/x1qNCiFZdBPd5faV",
      "include_colab_link": true
    },
    "kernelspec": {
      "name": "python3",
      "display_name": "Python 3"
    },
    "language_info": {
      "name": "python"
    }
  },
  "cells": [
    {
      "cell_type": "markdown",
      "metadata": {
        "id": "view-in-github",
        "colab_type": "text"
      },
      "source": [
        "<a href=\"https://colab.research.google.com/github/MUTHUKRISHNAN123/sample/blob/main/Programs_using_functions.ipynb\" target=\"_parent\"><img src=\"https://colab.research.google.com/assets/colab-badge.svg\" alt=\"Open In Colab\"/></a>"
      ]
    },
    {
      "cell_type": "markdown",
      "source": [
        "Ex.No:4 - Programs using functions"
      ],
      "metadata": {
        "id": "Td1P-fQ55XEB"
      }
    },
    {
      "cell_type": "markdown",
      "source": [
        "4.1 - Write a function called fizz_buzz that takes a number.\n",
        "\n",
        "1.If the number is divisible by 3, it should return “Fizz”.\n",
        "2.  If it is divisible by 5, it should return “Buzz”.\n",
        "3.   If it is divisible by both 3 and 5, itshould return “FizzBuzz”.\n",
        "4.   Otherwise, it should return the same number."
      ],
      "metadata": {
        "id": "n0k8UkSy5iRZ"
      }
    },
    {
      "cell_type": "code",
      "execution_count": 3,
      "metadata": {
        "colab": {
          "base_uri": "https://localhost:8080/"
        },
        "id": "25ArHfd15Vo3",
        "outputId": "bcc390df-26bf-4f97-e724-774a56aed316"
      },
      "outputs": [
        {
          "output_type": "stream",
          "name": "stdout",
          "text": [
            "enter a number: 45\n",
            "FizzBuzz\n",
            "None\n"
          ]
        }
      ],
      "source": [
        "def fizz_buzz(a):\n",
        "  if(a%5==0 and a%3==0):\n",
        "    print(\"FizzBuzz\")\n",
        "  elif(a%3==0):\n",
        "    print(\"Fizz\")\n",
        "  elif(a%5==0):\n",
        "    print(\"Buzz\")\n",
        "  else:\n",
        "     return a\n",
        "a=int(input(\"enter a number: \"))\n",
        "z=fizz_buzz(a)\n",
        "print(z)"
      ]
    },
    {
      "cell_type": "markdown",
      "source": [
        "4.2 - Write a function for checking the speed of drivers. This function should have one parameter: speed.\n",
        "\n",
        "1. If speed is less than 70, it should print “Ok”.\n",
        "2.   Otherwise, for every 5km above the speed limit (70), it should give the driver one demerit point and print the total\n",
        "number of demerit points. For example, if the speed is 80, it should print: “Points: 2”.\n",
        "3. If the driver gets more than 12 points, the function should print: “License suspended”"
      ],
      "metadata": {
        "id": "KN-yzf686iBl"
      }
    },
    {
      "cell_type": "code",
      "source": [
        "def speed(a):\n",
        "  if(a<70):\n",
        "    print('ok')\n",
        "  elif(a>70):\n",
        "    z=(a-70)/5\n",
        "    print(\"points:\",z)\n",
        "    if(z>12):\n",
        "      print(\"License suspended\")\n",
        "a=int(input(\"enter the speed: \"))\n",
        "speed(a)\n",
        "  "
      ],
      "metadata": {
        "colab": {
          "base_uri": "https://localhost:8080/"
        },
        "id": "z3Jiim1L6maO",
        "outputId": "ad25f0df-e4c5-444e-8f96-74e7b3ad075c"
      },
      "execution_count": 8,
      "outputs": [
        {
          "output_type": "stream",
          "name": "stdout",
          "text": [
            "enter the speed: 157\n",
            "points: 17.4\n",
            "License suspended\n"
          ]
        }
      ]
    },
    {
      "cell_type": "markdown",
      "source": [
        "4.3 - Write a program using function to calculate simple interest. Suppose the customer is a senior citizen. He is being offered 12 percent rate of interest; for all other customers, the rate of interest is 10 percent."
      ],
      "metadata": {
        "id": "I3riILzb-0L5"
      }
    },
    {
      "cell_type": "markdown",
      "source": [
        "Simple interest formula is given by: Simple Interest = (P x T x R)/100 Where, P is the principle amount T is the time and R is the rate"
      ],
      "metadata": {
        "id": "idJl_4Zk_VYZ"
      }
    },
    {
      "cell_type": "code",
      "source": [
        "def seniorcitizen(a,b,c):\n",
        "  si=(a*b*c)/100\n",
        "  print(\"for senior citizen the simple interest is: \",si)\n",
        "def others(a,b,c):\n",
        "  si=(a*b*c)/100\n",
        "  print(\"for other than senior citizen the simple interest is: \",si)\n",
        "age=int(input(\"enter your age: \"))\n",
        "p=int(input(\"enter the principle amount: \"))\n",
        "t=int(input(\"enter the time period: \"))\n",
        "if(age>=60):\n",
        "  c=12\n",
        "  seniorcitizen(p,t,c)\n",
        "elif(age<60):\n",
        "  c=10\n",
        "  others(p,t,c)\n",
        "\n",
        "\n"
      ],
      "metadata": {
        "colab": {
          "base_uri": "https://localhost:8080/"
        },
        "id": "OaoBRIwS--qF",
        "outputId": "83dab698-f1b6-4d8e-c78d-0d459f9fbe28"
      },
      "execution_count": 15,
      "outputs": [
        {
          "output_type": "stream",
          "name": "stdout",
          "text": [
            "enter your age: 80\n",
            "enter the principle amount: 50000\n",
            "enter the time period: 8\n",
            "for senior citizen the simple interest is:  48000.0\n"
          ]
        }
      ]
    }
  ]
}