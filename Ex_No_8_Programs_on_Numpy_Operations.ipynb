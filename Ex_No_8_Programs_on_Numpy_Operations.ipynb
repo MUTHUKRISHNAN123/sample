{
  "nbformat": 4,
  "nbformat_minor": 0,
  "metadata": {
    "colab": {
      "provenance": [],
      "authorship_tag": "ABX9TyN5KELbCVGwYTQ3mUJABJ/C",
      "include_colab_link": true
    },
    "kernelspec": {
      "name": "python3",
      "display_name": "Python 3"
    },
    "language_info": {
      "name": "python"
    }
  },
  "cells": [
    {
      "cell_type": "markdown",
      "metadata": {
        "id": "view-in-github",
        "colab_type": "text"
      },
      "source": [
        "<a href=\"https://colab.research.google.com/github/MUTHUKRISHNAN123/sample/blob/main/Ex_No_8_Programs_on_Numpy_Operations.ipynb\" target=\"_parent\"><img src=\"https://colab.research.google.com/assets/colab-badge.svg\" alt=\"Open In Colab\"/></a>"
      ]
    },
    {
      "cell_type": "markdown",
      "source": [
        "8.1 Test whether any of the elements of a given array is non-zero."
      ],
      "metadata": {
        "id": "8AvXyLuSqXUv"
      }
    },
    {
      "cell_type": "code",
      "source": [
        "import numpy as np\n",
        "z=np.array([1,2,3,4,5,6,7,8,9,0])\n",
        "print(z)\n",
        "print(np.all(z))  #np.all() function return true if o is not present in array."
      ],
      "metadata": {
        "colab": {
          "base_uri": "https://localhost:8080/"
        },
        "id": "n3fOKdR4qcK_",
        "outputId": "6c3c68e4-bd64-4bd3-a4c5-34bca4236f55"
      },
      "execution_count": 2,
      "outputs": [
        {
          "output_type": "stream",
          "name": "stdout",
          "text": [
            "[1 2 3 4 5 6 7 8 9 0]\n",
            "False\n"
          ]
        }
      ]
    },
    {
      "cell_type": "markdown",
      "source": [
        "8.2 Test element-wise for NaN of a given array."
      ],
      "metadata": {
        "id": "aYcN0TvqrWaR"
      }
    },
    {
      "cell_type": "code",
      "source": [
        "import numpy as np\n",
        "z=np.array([1,2,3,4,5,6,7,8,9,0,np.nan,np.inf])\n",
        "print(z)\n",
        "print(np.isnan(z))"
      ],
      "metadata": {
        "colab": {
          "base_uri": "https://localhost:8080/"
        },
        "id": "2eH4KTd9rbTg",
        "outputId": "a85a1284-e493-4d0d-9343-e6750e8fe373"
      },
      "execution_count": 3,
      "outputs": [
        {
          "output_type": "stream",
          "name": "stdout",
          "text": [
            "[ 1.  2.  3.  4.  5.  6.  7.  8.  9.  0. nan inf]\n",
            "[False False False False False False False False False False  True False]\n"
          ]
        }
      ]
    },
    {
      "cell_type": "markdown",
      "source": [
        "8.3 Create an element-wise comparison (greater, greater_equal, less\n",
        " and less_equal) of two given arrays."
      ],
      "metadata": {
        "id": "mS2aS_aEsBZE"
      }
    },
    {
      "cell_type": "code",
      "source": [
        "x=np.arange(5,20,2)\n",
        "y=np.arange(15,30,2)\n",
        "print(x)\n",
        "print(y)\n",
        "print(np.greater(x,y))\n",
        "print(np.greater_equal(x,y))\n",
        "print(np.less(x,y))\n",
        "print(np.less_equal(x,y))"
      ],
      "metadata": {
        "colab": {
          "base_uri": "https://localhost:8080/"
        },
        "id": "ykdqBedosHY_",
        "outputId": "57a7ea72-c771-460b-9b4d-fc02ac078501"
      },
      "execution_count": 4,
      "outputs": [
        {
          "output_type": "stream",
          "name": "stdout",
          "text": [
            "[ 5  7  9 11 13 15 17 19]\n",
            "[15 17 19 21 23 25 27 29]\n",
            "[False False False False False False False False]\n",
            "[False False False False False False False False]\n",
            "[ True  True  True  True  True  True  True  True]\n",
            "[ True  True  True  True  True  True  True  True]\n"
          ]
        }
      ]
    },
    {
      "cell_type": "markdown",
      "source": [
        "8.4 create a vector with values ranging from 50 to 90 and print all values except the first and last."
      ],
      "metadata": {
        "id": "AwzTkrGhtiZa"
      }
    },
    {
      "cell_type": "code",
      "source": [
        "z=np.arange(50,90,1)\n",
        "print(z)\n",
        "print('printing all values except the first and last')\n",
        "print(z[1:-1])"
      ],
      "metadata": {
        "colab": {
          "base_uri": "https://localhost:8080/"
        },
        "id": "-AyA2NMYtnYv",
        "outputId": "561c18a4-67d6-4ce5-c111-abecb9dfa4c1"
      },
      "execution_count": 6,
      "outputs": [
        {
          "output_type": "stream",
          "name": "stdout",
          "text": [
            "[50 51 52 53 54 55 56 57 58 59 60 61 62 63 64 65 66 67 68 69 70 71 72 73\n",
            " 74 75 76 77 78 79 80 81 82 83 84 85 86 87 88 89]\n",
            "printing all values except the first and last\n",
            "[51 52 53 54 55 56 57 58 59 60 61 62 63 64 65 66 67 68 69 70 71 72 73 74\n",
            " 75 76 77 78 79 80 81 82 83 84 85 86 87 88]\n"
          ]
        }
      ]
    },
    {
      "cell_type": "markdown",
      "source": [
        "8.5 sort a given array of shape 2 along the first axis, last axis and on flattened array."
      ],
      "metadata": {
        "id": "7Kl1Tj38usTo"
      }
    },
    {
      "cell_type": "code",
      "source": [
        "z=np.array([[100,90],[80,70]])\n",
        "print(z)\n",
        "print(\"sorting along first axis\")\n",
        "print(np.sort(z,axis=0))\n",
        "print(\"sorting along last axis\")\n",
        "print(np.sort(z))\n",
        "print('flatened array')\n",
        "print(np.sort(z,axis=None))"
      ],
      "metadata": {
        "colab": {
          "base_uri": "https://localhost:8080/"
        },
        "id": "bStbJGhGuv5q",
        "outputId": "7e43d5eb-3ccb-43c1-cf11-8233dcc5c4f0"
      },
      "execution_count": 17,
      "outputs": [
        {
          "output_type": "stream",
          "name": "stdout",
          "text": [
            "[[100  90]\n",
            " [ 80  70]]\n",
            "sorting along first axis\n",
            "[[ 80  70]\n",
            " [100  90]]\n",
            "sorting along last axis\n",
            "[[ 90 100]\n",
            " [ 70  80]]\n",
            "flatened array\n",
            "[ 70  80  90 100]\n"
          ]
        }
      ]
    },
    {
      "cell_type": "markdown",
      "source": [
        "8.6 Get the indices of the sorted elements of a given array."
      ],
      "metadata": {
        "id": "AMkTbvGJxbKN"
      }
    },
    {
      "cell_type": "code",
      "source": [
        "x=np.array([2,67,3,56,10,23,4])\n",
        "y=np.arange(5,10,1)\n",
        "print(x)\n",
        "print(y)\n",
        "print(\"the indices of sorted elements in array\")\n",
        "print(np.argsort(x))\n",
        "print(np.argsort(y))"
      ],
      "metadata": {
        "colab": {
          "base_uri": "https://localhost:8080/"
        },
        "id": "2J1P0y4lxd9f",
        "outputId": "234412eb-5e73-4e09-b2dc-0f6382154d84"
      },
      "execution_count": 25,
      "outputs": [
        {
          "output_type": "stream",
          "name": "stdout",
          "text": [
            "[ 2 67  3 56 10 23  4]\n",
            "[5 6 7 8 9]\n",
            "the indices of sorted elements in array\n",
            "[0 2 6 4 5 3 1]\n",
            "[0 1 2 3 4]\n"
          ]
        }
      ]
    },
    {
      "cell_type": "markdown",
      "source": [
        "8.7 get the minimum and maximum value of a given array along the second axis."
      ],
      "metadata": {
        "id": "xkfPvY7S0FVP"
      }
    },
    {
      "cell_type": "code",
      "source": [
        "z=np.array([[5000,700],[89,90]])\n",
        "print(z)\n",
        "print('the maximum value is:',np.amax(z,1))\n",
        "print('the minimum value is:',np.amin(z,1))\n"
      ],
      "metadata": {
        "colab": {
          "base_uri": "https://localhost:8080/"
        },
        "id": "8NSusm-40Jnd",
        "outputId": "c771156c-5b86-49e4-df78-ab2636003a1e"
      },
      "execution_count": 34,
      "outputs": [
        {
          "output_type": "stream",
          "name": "stdout",
          "text": [
            "[[5000  700]\n",
            " [  89   90]]\n",
            "the maximum value is: [5000   90]\n",
            "the minimum value is: [700  89]\n"
          ]
        }
      ]
    },
    {
      "cell_type": "markdown",
      "source": [
        "8.8 calculate the difference between the maximum and the minimum values of a given array along the second axis."
      ],
      "metadata": {
        "id": "9uGvbFEl2Dww"
      }
    },
    {
      "cell_type": "code",
      "source": [
        "z=np.array([[5000,700],[89,90]])\n",
        "print(z)\n",
        "x=np.amax(z,1)\n",
        "y=np.amin(z,1)\n",
        "print('the difference is:',x-y)"
      ],
      "metadata": {
        "colab": {
          "base_uri": "https://localhost:8080/"
        },
        "id": "1ohh3VuY2GxH",
        "outputId": "dd70cecc-4ce4-4412-b7a1-3aa919d009f0"
      },
      "execution_count": 36,
      "outputs": [
        {
          "output_type": "stream",
          "name": "stdout",
          "text": [
            "[[5000  700]\n",
            " [  89   90]]\n",
            "the difference is: [4300    1]\n"
          ]
        }
      ]
    },
    {
      "cell_type": "markdown",
      "source": [
        "8.9 compute the mean, standard deviation, and variance of a given array along the second axis."
      ],
      "metadata": {
        "id": "yrGczBnx2sJg"
      }
    },
    {
      "cell_type": "code",
      "source": [
        "z=np.arange(10)\n",
        "print(z)\n",
        "print(\"the mean is: \",np.mean(z))\n",
        "#SD = np.sqrt(np.mean((z-np.mean(z))**2))  #np.sqrt(np.mean((array - np.mean(array)) ** 2))\n",
        "print(\"the standard deviation is: \",np.std(z)) \n",
        "# for var np.mean((z-np.mean(z))**2)\n",
        "print(\"the variance is: \",np.var(z))\n"
      ],
      "metadata": {
        "colab": {
          "base_uri": "https://localhost:8080/"
        },
        "id": "o0tWqqVd2vJj",
        "outputId": "f7745161-57cf-4741-e480-6a29af4f89f8"
      },
      "execution_count": 43,
      "outputs": [
        {
          "output_type": "stream",
          "name": "stdout",
          "text": [
            "[0 1 2 3 4 5 6 7 8 9]\n",
            "the mean is:  4.5\n",
            "the standard deviation is:  2.8722813232690143\n",
            "the variance is:  8.25\n"
          ]
        }
      ]
    },
    {
      "cell_type": "markdown",
      "source": [
        "8.10 compute the covariance matrix of two given arrays"
      ],
      "metadata": {
        "id": "_jOV5rdF45gB"
      }
    },
    {
      "cell_type": "code",
      "source": [
        "x=np.arange(5)\n",
        "y=np.arange(5,10)\n",
        "print(x)\n",
        "print(y)\n",
        "print(\"the covariance matrix of x & y is:\\n \",np.cov(x,y))"
      ],
      "metadata": {
        "colab": {
          "base_uri": "https://localhost:8080/"
        },
        "id": "3PVL2kt-48jh",
        "outputId": "3526a41e-b9c8-40bb-e850-89a05a5680b1"
      },
      "execution_count": 47,
      "outputs": [
        {
          "output_type": "stream",
          "name": "stdout",
          "text": [
            "[0 1 2 3 4]\n",
            "[5 6 7 8 9]\n",
            "the covariance matrix of x & y is:\n",
            "  [[2.5 2.5]\n",
            " [2.5 2.5]]\n"
          ]
        }
      ]
    },
    {
      "cell_type": "markdown",
      "source": [
        "8.11 compute the determinant of a given square array."
      ],
      "metadata": {
        "id": "bWGU5dd15294"
      }
    },
    {
      "cell_type": "code",
      "source": [
        "from numpy import linalg\n",
        "z=np.array([[4,7,10],[5,7,9],[10,13,7]])\n",
        "print(z)\n",
        "print(\"the determinant is:\",np.linalg.det(z))"
      ],
      "metadata": {
        "colab": {
          "base_uri": "https://localhost:8080/"
        },
        "id": "bjytART457GA",
        "outputId": "d19a70b9-e63c-4567-ca8d-3b836829ad3c"
      },
      "execution_count": 49,
      "outputs": [
        {
          "output_type": "stream",
          "name": "stdout",
          "text": [
            "[[ 4  7 10]\n",
            " [ 5  7  9]\n",
            " [10 13  7]]\n",
            "the determinant is: 63.00000000000005\n"
          ]
        }
      ]
    },
    {
      "cell_type": "markdown",
      "source": [
        "8.12 compute the sum of the diagonal element of a given array."
      ],
      "metadata": {
        "id": "OXTQg_y86qiU"
      }
    },
    {
      "cell_type": "code",
      "source": [
        "z=np.array([[4,7,10],[5,7,9],[10,13,7]])\n",
        "print(z)\n",
        "print(\"the sum of diagonal elements is: \",np.trace(z))\n",
        "a=np.diagonal(z)\n",
        "print(\"the diagonal is:\",a)\n",
        "print(sum(a))"
      ],
      "metadata": {
        "colab": {
          "base_uri": "https://localhost:8080/"
        },
        "id": "FCNHWHfh6uWp",
        "outputId": "cc8e8394-5e68-4952-d150-f3de3c43419c"
      },
      "execution_count": 50,
      "outputs": [
        {
          "output_type": "stream",
          "name": "stdout",
          "text": [
            "[[ 4  7 10]\n",
            " [ 5  7  9]\n",
            " [10 13  7]]\n",
            "the sum of diagonal elements is:  18\n",
            "the diagonal is: [4 7 7]\n",
            "18\n"
          ]
        }
      ]
    }
  ]
}