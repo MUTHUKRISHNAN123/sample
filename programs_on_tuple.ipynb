{
  "nbformat": 4,
  "nbformat_minor": 0,
  "metadata": {
    "colab": {
      "provenance": [],
      "authorship_tag": "ABX9TyOMB4Q4tfKZBVoulDrpfxDd",
      "include_colab_link": true
    },
    "kernelspec": {
      "name": "python3",
      "display_name": "Python 3"
    },
    "language_info": {
      "name": "python"
    }
  },
  "cells": [
    {
      "cell_type": "markdown",
      "metadata": {
        "id": "view-in-github",
        "colab_type": "text"
      },
      "source": [
        "<a href=\"https://colab.research.google.com/github/MUTHUKRISHNAN123/sample/blob/main/programs_on_tuple.ipynb\" target=\"_parent\"><img src=\"https://colab.research.google.com/assets/colab-badge.svg\" alt=\"Open In Colab\"/></a>"
      ]
    },
    {
      "cell_type": "markdown",
      "source": [
        "6.1- Write a program that has a list of numbers \n",
        "(both positive as well as negative). \n",
        "Make a new tuple that has only positive values from this list"
      ],
      "metadata": {
        "id": "X3gUHL9Yl2Ci"
      }
    },
    {
      "cell_type": "code",
      "source": [
        "li=[2,-3,5,7,-9,11,345,-890]\n",
        "tup=()\n",
        "for i in range(len(li)):\n",
        "  if li[i]>0:\n",
        "    tup+=(li[i],)\n",
        "print(\"positive numbers: \",tup)"
      ],
      "metadata": {
        "colab": {
          "base_uri": "https://localhost:8080/"
        },
        "id": "5EGjlyUyl57W",
        "outputId": "b3d27b48-4dae-4bfb-a792-61e0ebc7563e"
      },
      "execution_count": 1,
      "outputs": [
        {
          "output_type": "stream",
          "name": "stdout",
          "text": [
            "positive numbers:  (2, 5, 7, 11, 345)\n"
          ]
        }
      ]
    },
    {
      "cell_type": "markdown",
      "source": [
        "Write a program that accepts different number of arguments and return sum of only the positive values passed to it."
      ],
      "metadata": {
        "id": "cCWry9sImutN"
      }
    },
    {
      "cell_type": "code",
      "source": [
        "def num(*var):\n",
        "  sum=0\n",
        "  for i in range(len(var)):\n",
        "    if var[i]>0:\n",
        "      sum+=var[i]\n",
        "  return sum\n",
        "print(\"the sum is\",num(2,4,6,8,10,-2,-4,-6,-8,-10))"
      ],
      "metadata": {
        "colab": {
          "base_uri": "https://localhost:8080/"
        },
        "id": "-6bvqKremxxl",
        "outputId": "a684d3db-b832-4a49-cddb-48f0a47005d4"
      },
      "execution_count": 2,
      "outputs": [
        {
          "output_type": "stream",
          "name": "stdout",
          "text": [
            "the sum is 30\n"
          ]
        }
      ]
    },
    {
      "cell_type": "markdown",
      "source": [
        "6.3- Write a program that has two sequences. First which stores some questions and second stores the corresponding answers. use the zip() function to form a valid question answer series."
      ],
      "metadata": {
        "id": "9ECg5LT7oVm4"
      }
    },
    {
      "cell_type": "code",
      "source": [
        "ques=['what is your name?','what is your age?','what is your dream?']\n",
        "ans=[\"muthukrishnan\",18,\"To crack UPSC\"]\n",
        "zipp=zip(ques,ans)\n",
        "print(tuple(zipp))"
      ],
      "metadata": {
        "colab": {
          "base_uri": "https://localhost:8080/"
        },
        "id": "J5h5D7-EoYtk",
        "outputId": "5509b093-b563-427f-f7ac-59daa8837eb9"
      },
      "execution_count": 5,
      "outputs": [
        {
          "output_type": "stream",
          "name": "stdout",
          "text": [
            "(('what is your name?', 'muthukrishnan'), ('what is your age?', 18), ('what is your dream?', 'To crack UPSC'))\n"
          ]
        }
      ]
    }
  ]
}